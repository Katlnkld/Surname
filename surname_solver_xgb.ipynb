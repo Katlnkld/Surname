{
 "cells": [
  {
   "cell_type": "markdown",
   "metadata": {},
   "source": [
    "# Соревнование по распознаванию фамилий\n"
   ]
  },
  {
   "cell_type": "markdown",
   "metadata": {},
   "source": [
    "Ваша команда разрабатывает продукт для распознавания документов. В качестве одной из подзадач, возникших в этом проекте, нужно построить классификатор, который по фрагменту текста сможет определить, насколько вероятно, что этот текст - чья-то фамилия."
   ]
  },
  {
   "cell_type": "markdown",
   "metadata": {},
   "source": [
    "Для оценки качества решено использовать площадь под ROC-кривой (AUC), учитывайте это при подготовке прогноза на тестовой выборке."
   ]
  },
  {
   "cell_type": "markdown",
   "metadata": {},
   "source": [
    "В этом соревновании вам предстоит решить обычную задачу бинарной классификации, но признаки вам понадобится извлечь из примеров самостоятельно. В вашем распоряжении обучающая выборка, тестовая (на ней нужно спрогнозировать ответы) и пример файла с прогнозами. В примере прогнозов есть некоторый подвох, который специально может ввести вас в заблуждение, но если вы помните, как вычисляется ROC-AUC, вы на него не попадётесь :)\n",
    "\n",
    "Описание файлов:\n",
    "\n",
    "linear_train.txt - обучающая выборка\n",
    "\n",
    "linear_test.txt - тестовая выборка\n",
    "\n",
    "linear_ans_example.txt - пример файла с прогнозами\n",
    "\n",
    "Точность разметки данных\n",
    "Разметка датасета была частично автоматизирована, поэтому некоторые \"фамилии\" из выборки могут вас очень удивить. К сожалению, с этой проблемой часто приходится иметь дело при работе с \"грязными\" данными. В рамках этого задания вам нужно считать разметку выборки идеальной. С одной стороны, вам не нужно думать, как вычистить выборку. С другой стороны, это приведет к тому, что какие-то действительно хорошие идеи признаков могут не заработать."
   ]
  },
  {
   "cell_type": "markdown",
   "metadata": {
    "heading_collapsed": true
   },
   "source": [
    "## 1. Импорт библиотек"
   ]
  },
  {
   "cell_type": "code",
   "execution_count": 1,
   "metadata": {
    "ExecuteTime": {
     "end_time": "2020-03-03T21:44:52.549072Z",
     "start_time": "2020-03-03T21:44:48.854548Z"
    },
    "hidden": true
   },
   "outputs": [],
   "source": [
    "import numpy as np\n",
    "import pandas as pd\n",
    "\n",
    "import os\n",
    "for dirname, _, filenames in os.walk('/kaggle/input'):\n",
    "    for filename in filenames:\n",
    "        print(os.path.join(dirname, filename))\n",
    "        \n",
    "import matplotlib.pyplot as plt\n",
    "import seaborn as sns        \n",
    "from sklearn import tree\n",
    "from sklearn.model_selection import GridSearchCV, train_test_split, cross_val_score, RandomizedSearchCV\n",
    "\n",
    "from sklearn.metrics import accuracy_score, classification_report,roc_auc_score, precision_score, recall_score\n",
    "from sklearn.linear_model import LogisticRegression\n",
    "\n",
    "from xgboost import XGBClassifier\n",
    "import xgboost as xgb\n",
    "\n",
    "import seaborn as sns\n",
    "sns.set(font_scale = 1.5)"
   ]
  },
  {
   "cell_type": "markdown",
   "metadata": {
    "heading_collapsed": true
   },
   "source": [
    "## 2. Чтение файлов"
   ]
  },
  {
   "cell_type": "code",
   "execution_count": 2,
   "metadata": {
    "ExecuteTime": {
     "end_time": "2020-03-03T21:44:52.815121Z",
     "start_time": "2020-03-03T21:44:52.550827Z"
    },
    "hidden": true
   },
   "outputs": [],
   "source": [
    "surname_test = pd.read_csv('linear_test.txt', header = None)\n",
    "surname_data = pd.read_csv('linear_train.txt', header = None)"
   ]
  },
  {
   "cell_type": "code",
   "execution_count": 3,
   "metadata": {
    "ExecuteTime": {
     "end_time": "2020-03-03T21:44:52.946769Z",
     "start_time": "2020-03-03T21:44:52.851025Z"
    },
    "hidden": true,
    "scrolled": false
   },
   "outputs": [
    {
     "data": {
      "text/html": [
       "<div>\n",
       "<style scoped>\n",
       "    .dataframe tbody tr th:only-of-type {\n",
       "        vertical-align: middle;\n",
       "    }\n",
       "\n",
       "    .dataframe tbody tr th {\n",
       "        vertical-align: top;\n",
       "    }\n",
       "\n",
       "    .dataframe thead th {\n",
       "        text-align: right;\n",
       "    }\n",
       "</style>\n",
       "<table border=\"1\" class=\"dataframe\">\n",
       "  <thead>\n",
       "    <tr style=\"text-align: right;\">\n",
       "      <th></th>\n",
       "      <th>surname</th>\n",
       "      <th>answer</th>\n",
       "    </tr>\n",
       "  </thead>\n",
       "  <tbody>\n",
       "    <tr>\n",
       "      <td>0</td>\n",
       "      <td>Аалтонен</td>\n",
       "      <td>1</td>\n",
       "    </tr>\n",
       "    <tr>\n",
       "      <td>1</td>\n",
       "      <td>Аар</td>\n",
       "      <td>0</td>\n",
       "    </tr>\n",
       "    <tr>\n",
       "      <td>2</td>\n",
       "      <td>Аарон</td>\n",
       "      <td>0</td>\n",
       "    </tr>\n",
       "    <tr>\n",
       "      <td>3</td>\n",
       "      <td>ААРОН</td>\n",
       "      <td>0</td>\n",
       "    </tr>\n",
       "    <tr>\n",
       "      <td>4</td>\n",
       "      <td>Аарона</td>\n",
       "      <td>0</td>\n",
       "    </tr>\n",
       "  </tbody>\n",
       "</table>\n",
       "</div>"
      ],
      "text/plain": [
       "    surname  answer\n",
       "0  Аалтонен       1\n",
       "1       Аар       0\n",
       "2     Аарон       0\n",
       "3     ААРОН       0\n",
       "4    Аарона       0"
      ]
     },
     "execution_count": 3,
     "metadata": {},
     "output_type": "execute_result"
    }
   ],
   "source": [
    "surname_data.rename(columns={0: \"surname\", 1: \"answer\"}, inplace=1)\n",
    "surname_test.rename(columns={0: \"surname\"}, inplace=1)\n",
    "surname_data.head()"
   ]
  },
  {
   "cell_type": "markdown",
   "metadata": {
    "hidden": true
   },
   "source": [
    "**Проверим распределение классов**"
   ]
  },
  {
   "cell_type": "code",
   "execution_count": 4,
   "metadata": {
    "ExecuteTime": {
     "end_time": "2020-03-03T21:44:52.964723Z",
     "start_time": "2020-03-03T21:44:52.950759Z"
    },
    "hidden": true
   },
   "outputs": [
    {
     "data": {
      "text/plain": [
       "0    90770\n",
       "1    10638\n",
       "Name: answer, dtype: int64"
      ]
     },
     "execution_count": 4,
     "metadata": {},
     "output_type": "execute_result"
    }
   ],
   "source": [
    "surname_data.answer.value_counts()"
   ]
  },
  {
   "cell_type": "markdown",
   "metadata": {
    "hidden": true
   },
   "source": [
    "**Видно дисбаланс классов, поэтому предлагается использовать ROC AUC в качестве метрики качества модели.**"
   ]
  },
  {
   "cell_type": "markdown",
   "metadata": {},
   "source": [
    "## 3. Построение признаков"
   ]
  },
  {
   "cell_type": "markdown",
   "metadata": {},
   "source": [
    "**Необходимо задать функции, которые помогут в построении признаков**"
   ]
  },
  {
   "cell_type": "code",
   "execution_count": 5,
   "metadata": {
    "ExecuteTime": {
     "end_time": "2020-03-03T21:44:52.981676Z",
     "start_time": "2020-03-03T21:44:52.968712Z"
    }
   },
   "outputs": [],
   "source": [
    "okonchanie = ['ин', 'ын','ов','ев','ан','ой','их','ых', 'ен','ина', 'ына','ова','ева','ких','ая','чик','ски','дзе','ина',\n",
    "             'шин', 'кин', 'нко', 'йко', 'ко', 'кий', 'кая', 'тти','ез','ес','лло','сон','ерг','ис', 'ом','ерс','рс',\n",
    "             'ной','ным','вой','вым','ном','ой','ым','ом','кой','ким','им', 'сон','он','сен','ен','ия','онс','нсу','нс',\n",
    "             'ана','она','оне','на','мон','он','оне','не', 'на','ва', 'ера','ну',\n",
    "             'ом','ов','на','ва','ну','ра','ой','ер','ым','са','он','ин','не','ву','ие','та','ка','су','ев','ру',\n",
    "             'ова','ном','вым','ера','ина','ром','она','сон','ние','вой','нов','ков','ева','ову','кий','ону','еру','ого','сон','тон']\n",
    "        \n",
    "glacnie = ['у', 'е', 'а', 'ы', 'о', 'э', 'я', 'и', 'ю', 'ё' ]\n",
    "soglas = ['й','ц','к','н','г','ш','щ','з','х','ф','в','п','р','л','д','ж','ч','с','м','т','б']\n",
    "znak = ['ь', 'ъ']\n",
    "okonch4 = ['овым','ером','оном','овой','ение','ский','кого','енко','кова','сона',\n",
    "           'нова','иным','аном','ская','анов','тона','евым','ской','сону','рова']\n",
    "okonch1 = ['а','м','у','е','н','в','и','й','ы','о','р', 'с']\n",
    "\n",
    "\n",
    "suf = ['ен','ов','ер','ко','ан','ск','ин','он','со','то', 'ар','ро', 'ор']\n"
   ]
  },
  {
   "cell_type": "code",
   "execution_count": 6,
   "metadata": {
    "ExecuteTime": {
     "end_time": "2020-03-03T21:44:53.254561Z",
     "start_time": "2020-03-03T21:44:53.208686Z"
    },
    "code_folding": [
     63,
     71,
     79,
     87,
     95,
     103,
     111,
     119,
     127,
     135,
     143,
     151,
     159,
     167,
     175,
     183
    ]
   },
   "outputs": [],
   "source": [
    "   def shrift(st):         # Как написано слово (маленькими буквами, большими буквами, с большой буквы)\n",
    "    if st.istitle():\n",
    "        return 1\n",
    "    if st.isupper():\n",
    "        return 2\n",
    "    else: return 0\n",
    "    \n",
    "def kol_glas(st):  # Количество гласных букв в слове\n",
    "    k = 0\n",
    "    st = st.lower()\n",
    "    for i in range(len(st)):\n",
    "        if st[i] in glacnie:\n",
    "            k+=1\n",
    "    return k   \n",
    "\n",
    "def kol_soglas(st):   # Количество согласных букв в слове\n",
    "    k = 0\n",
    "    st = st.lower()\n",
    "    for i in range(len(st)):\n",
    "        if st[i] in soglas:\n",
    "            k+=1\n",
    "    return k \n",
    "\n",
    "def znaki(st):   # Количество твердых и мягких знаков\n",
    "    k = 0\n",
    "    st = st.lower()\n",
    "    for i in range(len(st)):\n",
    "        if st[i] in znak:\n",
    "            k+=1\n",
    "    return k \n",
    "\n",
    "def a(st):   # Количество буквы \"а\"\n",
    "    k = 0\n",
    "    st = st.lower()\n",
    "    for i in range(len(st)):\n",
    "        if st[i] == 'а':\n",
    "            k+=1\n",
    "    return k \n",
    "\n",
    "def povtor(st):   # Количество повторяющихся подряд двух букв\n",
    "    k = 0\n",
    "    st = st.lower()\n",
    "    for i in range(len(st)-1):\n",
    "        if st[i] == st[i+1]:\n",
    "            k+=1\n",
    "    return k \n",
    "\n",
    "def ya(st):   # Количество буквы \"я\"\n",
    "    k = 0\n",
    "    st = st.lower()\n",
    "    for i in range(len(st)):\n",
    "        if st[i] == 'я':\n",
    "            k+=1\n",
    "    return k \n",
    "\n",
    "def povtor3(st):  # Количество повторяющихся подряд трех букв\n",
    "    k = 0\n",
    "    st = st.lower()\n",
    "    for i in range(len(st)-2):\n",
    "        if st[i] == st[i+1]==st[i+2]:\n",
    "            k+=1\n",
    "    return k \n",
    "\n",
    "def v(st):\n",
    "    k = 0\n",
    "    st = st.lower()\n",
    "    for i in range(len(st)):\n",
    "        if st[i] == 'в':\n",
    "            k+=1\n",
    "    return k\n",
    "\n",
    "def n(st):\n",
    "    k = 0\n",
    "    st = st.lower()\n",
    "    for i in range(len(st)):\n",
    "        if st[i] == 'н':\n",
    "            k+=1\n",
    "    return k\n",
    "\n",
    "def m(st):\n",
    "    k = 0\n",
    "    st = st.lower()\n",
    "    for i in range(len(st)):\n",
    "        if st[i] == 'м':\n",
    "            k+=1\n",
    "    return k\n",
    "\n",
    "def o(st):\n",
    "    k = 0\n",
    "    st = st.lower()\n",
    "    for i in range(len(st)):\n",
    "        if st[i] == 'о':\n",
    "            k+=1\n",
    "    return k\n",
    "\n",
    "def e(st):\n",
    "    k = 0\n",
    "    st = st.lower()\n",
    "    for i in range(len(st)):\n",
    "        if st[i] == 'е':\n",
    "            k+=1\n",
    "    return k\n",
    "\n",
    "def i(st):\n",
    "    k = 0\n",
    "    st = st.lower()\n",
    "    for i in range(len(st)):\n",
    "        if st[i] == 'и':\n",
    "            k+=1\n",
    "    return k\n",
    "\n",
    "def t(st):\n",
    "    k = 0\n",
    "    st = st.lower()\n",
    "    for i in range(len(st)):\n",
    "        if st[i] == 'т':\n",
    "            k+=1\n",
    "    return k\n",
    "\n",
    "def r(st):\n",
    "    k = 0\n",
    "    st = st.lower()\n",
    "    for i in range(len(st)):\n",
    "        if st[i] == 'р':\n",
    "            k+=1\n",
    "    return k\n",
    "\n",
    "def s(st):\n",
    "    k = 0\n",
    "    st = st.lower()\n",
    "    for i in range(len(st)):\n",
    "        if st[i] == 'с':\n",
    "            k+=1\n",
    "    return k\n",
    "\n",
    "def l(st):\n",
    "    k = 0\n",
    "    st = st.lower()\n",
    "    for i in range(len(st)):\n",
    "        if st[i] == 'л':\n",
    "            k+=1\n",
    "    return k\n",
    "\n",
    "def chh(st):\n",
    "    k = 0\n",
    "    st = st.lower()\n",
    "    for i in range(len(st)):\n",
    "        if st[i] == 'щ':\n",
    "            k+=1\n",
    "    return k\n",
    "\n",
    "def fe(st):\n",
    "    k = 0\n",
    "    st = st.lower()\n",
    "    for i in range(len(st)):\n",
    "        if st[i] == 'ф':\n",
    "            k+=1\n",
    "    return k\n",
    "\n",
    "def ee(st):\n",
    "    k = 0\n",
    "    st = st.lower()\n",
    "    for i in range(len(st)):\n",
    "        if st[i] == 'э':\n",
    "            k+=1\n",
    "    return k\n",
    "\n",
    "def k(st):\n",
    "    k = 0\n",
    "    st = st.lower()\n",
    "    for i in range(len(st)):\n",
    "        if st[i] == 'к':\n",
    "            k+=1\n",
    "    return k\n",
    "\n",
    "def p(st):\n",
    "    k = 0\n",
    "    st = st.lower()\n",
    "    for i in range(len(st)):\n",
    "        if st[i] == 'п':\n",
    "            k+=1\n",
    "    return k\n",
    "\n",
    "def u(st):\n",
    "    k = 0\n",
    "    st = st.lower()\n",
    "    for i in range(len(st)):\n",
    "        if st[i] == 'у':\n",
    "            k+=1\n",
    "    return k"
   ]
  },
  {
   "cell_type": "code",
   "execution_count": 7,
   "metadata": {
    "ExecuteTime": {
     "end_time": "2020-03-03T21:44:58.985704Z",
     "start_time": "2020-03-03T21:44:53.607788Z"
    }
   },
   "outputs": [],
   "source": [
    "surname_data['kol_bukw'] = [len(element) for element in surname_data['surname']] \n",
    "\n",
    "# Cтолбцы с последними буквами\n",
    "surname_data['okon1'] = [element[-1:].lower() for element in surname_data.surname]\n",
    "surname_data['okon2'] = [element[-2:].lower() for element in surname_data['surname']]\n",
    "surname_data['okon3'] = [element[-3:].lower() for element in surname_data['surname']]\n",
    "surname_data['okon4'] = [element[-4:].lower() for element in surname_data.surname]\n",
    "surname_data['okon1_bool'] = np.where(surname_data.okon1.isin(okonch1),1,0)\n",
    "surname_data['okon2_bool'] = np.where(surname_data.okon2.isin(okonchanie),1,0)\n",
    "surname_data['okon3_bool'] = np.where(surname_data.okon3.isin(okonchanie),1,0)\n",
    "surname_data['okon4_bool'] = np.where(surname_data.okon4.isin(okonch4),1,0)\n",
    "\n",
    "# Суффикс слова \n",
    "surname_data['sufix'] = [element[-4:-2].lower() for element in surname_data['surname']]\n",
    "surname_data['sufix_bool'] = np.where(surname_data.sufix.isin(suf),1,0)\n",
    "\n",
    "# Шрифт и спец.символы\n",
    "surname_data['probel'] = [element.count(' ') for element in surname_data.surname]\n",
    "surname_data['tire'] = [element.count('-') for element in surname_data.surname]\n",
    "surname_data['shrift'] = [shrift(element) for element in surname_data.surname]\n",
    "surname_data['symbols'] = [element.count(\"«\")+element.count(\"»\")+element.count('“')+element.count('”')+ \\\n",
    "                           element.count(\" \") for element in surname_data.surname]\n",
    "# Буквенный состав слова\n",
    "surname_data['glasnie'] = [kol_glas(element) for element in surname_data.surname]\n",
    "surname_data['soglasnie'] = [kol_soglas(element) for element in surname_data.surname]\n",
    "surname_data['znaki'] = [znaki(element) for element in surname_data.surname]\n",
    "surname_data['povtorenie'] = [povtor(element) for element in surname_data.surname]\n",
    "surname_data['povtorenie3'] = [povtor3(element) for element in surname_data.surname]\n",
    "\n",
    "# Отдельные буквы\n",
    "surname_data['ya'] = [ya(element) for element in surname_data.surname]\n",
    "surname_data['a'] = [a(element) for element in surname_data.surname]\n",
    "surname_data['v'] = [v(element) for element in surname_data.surname]\n",
    "surname_data['n'] = [n(element) for element in surname_data.surname]\n",
    "surname_data['m'] = [m(element) for element in surname_data.surname]\n",
    "\n",
    "surname_data['o'] = [o(element) for element in surname_data.surname]\n",
    "surname_data['e'] = [e(element) for element in surname_data.surname]\n",
    "surname_data['i'] = [i(element) for element in surname_data.surname]\n",
    "surname_data['t'] = [t(element) for element in surname_data.surname]\n",
    "surname_data['r'] = [r(element) for element in surname_data.surname]\n",
    "surname_data['s'] = [s(element) for element in surname_data.surname]\n",
    "surname_data['l'] = [l(element) for element in surname_data.surname]\n",
    "\n",
    "surname_data['chh'] = [chh(element) for element in surname_data.surname]\n",
    "surname_data['fe'] = [fe(element) for element in surname_data.surname]\n",
    "surname_data['ee'] = [ee(element) for element in surname_data.surname]\n",
    "\n",
    "surname_data['k'] = [k(element) for element in surname_data.surname]\n",
    "surname_data['p'] = [p(element) for element in surname_data.surname]\n",
    "surname_data['u'] = [u(element) for element in surname_data.surname]"
   ]
  },
  {
   "cell_type": "code",
   "execution_count": 8,
   "metadata": {
    "ExecuteTime": {
     "end_time": "2020-03-03T21:44:59.018549Z",
     "start_time": "2020-03-03T21:44:58.987634Z"
    }
   },
   "outputs": [
    {
     "data": {
      "text/html": [
       "<div>\n",
       "<style scoped>\n",
       "    .dataframe tbody tr th:only-of-type {\n",
       "        vertical-align: middle;\n",
       "    }\n",
       "\n",
       "    .dataframe tbody tr th {\n",
       "        vertical-align: top;\n",
       "    }\n",
       "\n",
       "    .dataframe thead th {\n",
       "        text-align: right;\n",
       "    }\n",
       "</style>\n",
       "<table border=\"1\" class=\"dataframe\">\n",
       "  <thead>\n",
       "    <tr style=\"text-align: right;\">\n",
       "      <th></th>\n",
       "      <th>surname</th>\n",
       "      <th>answer</th>\n",
       "      <th>kol_bukw</th>\n",
       "      <th>okon1</th>\n",
       "      <th>okon2</th>\n",
       "      <th>okon3</th>\n",
       "      <th>okon4</th>\n",
       "      <th>okon1_bool</th>\n",
       "      <th>okon2_bool</th>\n",
       "      <th>okon3_bool</th>\n",
       "      <th>...</th>\n",
       "      <th>t</th>\n",
       "      <th>r</th>\n",
       "      <th>s</th>\n",
       "      <th>l</th>\n",
       "      <th>chh</th>\n",
       "      <th>fe</th>\n",
       "      <th>ee</th>\n",
       "      <th>k</th>\n",
       "      <th>p</th>\n",
       "      <th>u</th>\n",
       "    </tr>\n",
       "  </thead>\n",
       "  <tbody>\n",
       "    <tr>\n",
       "      <td>0</td>\n",
       "      <td>Аалтонен</td>\n",
       "      <td>1</td>\n",
       "      <td>8</td>\n",
       "      <td>н</td>\n",
       "      <td>ен</td>\n",
       "      <td>нен</td>\n",
       "      <td>онен</td>\n",
       "      <td>1</td>\n",
       "      <td>1</td>\n",
       "      <td>0</td>\n",
       "      <td>...</td>\n",
       "      <td>1</td>\n",
       "      <td>0</td>\n",
       "      <td>0</td>\n",
       "      <td>1</td>\n",
       "      <td>0</td>\n",
       "      <td>0</td>\n",
       "      <td>0</td>\n",
       "      <td>0</td>\n",
       "      <td>0</td>\n",
       "      <td>0</td>\n",
       "    </tr>\n",
       "    <tr>\n",
       "      <td>1</td>\n",
       "      <td>Аар</td>\n",
       "      <td>0</td>\n",
       "      <td>3</td>\n",
       "      <td>р</td>\n",
       "      <td>ар</td>\n",
       "      <td>аар</td>\n",
       "      <td>аар</td>\n",
       "      <td>1</td>\n",
       "      <td>0</td>\n",
       "      <td>0</td>\n",
       "      <td>...</td>\n",
       "      <td>0</td>\n",
       "      <td>1</td>\n",
       "      <td>0</td>\n",
       "      <td>0</td>\n",
       "      <td>0</td>\n",
       "      <td>0</td>\n",
       "      <td>0</td>\n",
       "      <td>0</td>\n",
       "      <td>0</td>\n",
       "      <td>0</td>\n",
       "    </tr>\n",
       "    <tr>\n",
       "      <td>2</td>\n",
       "      <td>Аарон</td>\n",
       "      <td>0</td>\n",
       "      <td>5</td>\n",
       "      <td>н</td>\n",
       "      <td>он</td>\n",
       "      <td>рон</td>\n",
       "      <td>арон</td>\n",
       "      <td>1</td>\n",
       "      <td>1</td>\n",
       "      <td>0</td>\n",
       "      <td>...</td>\n",
       "      <td>0</td>\n",
       "      <td>1</td>\n",
       "      <td>0</td>\n",
       "      <td>0</td>\n",
       "      <td>0</td>\n",
       "      <td>0</td>\n",
       "      <td>0</td>\n",
       "      <td>0</td>\n",
       "      <td>0</td>\n",
       "      <td>0</td>\n",
       "    </tr>\n",
       "    <tr>\n",
       "      <td>3</td>\n",
       "      <td>ААРОН</td>\n",
       "      <td>0</td>\n",
       "      <td>5</td>\n",
       "      <td>н</td>\n",
       "      <td>он</td>\n",
       "      <td>рон</td>\n",
       "      <td>арон</td>\n",
       "      <td>1</td>\n",
       "      <td>1</td>\n",
       "      <td>0</td>\n",
       "      <td>...</td>\n",
       "      <td>0</td>\n",
       "      <td>1</td>\n",
       "      <td>0</td>\n",
       "      <td>0</td>\n",
       "      <td>0</td>\n",
       "      <td>0</td>\n",
       "      <td>0</td>\n",
       "      <td>0</td>\n",
       "      <td>0</td>\n",
       "      <td>0</td>\n",
       "    </tr>\n",
       "    <tr>\n",
       "      <td>4</td>\n",
       "      <td>Аарона</td>\n",
       "      <td>0</td>\n",
       "      <td>6</td>\n",
       "      <td>а</td>\n",
       "      <td>на</td>\n",
       "      <td>она</td>\n",
       "      <td>рона</td>\n",
       "      <td>1</td>\n",
       "      <td>1</td>\n",
       "      <td>1</td>\n",
       "      <td>...</td>\n",
       "      <td>0</td>\n",
       "      <td>1</td>\n",
       "      <td>0</td>\n",
       "      <td>0</td>\n",
       "      <td>0</td>\n",
       "      <td>0</td>\n",
       "      <td>0</td>\n",
       "      <td>0</td>\n",
       "      <td>0</td>\n",
       "      <td>0</td>\n",
       "    </tr>\n",
       "  </tbody>\n",
       "</table>\n",
       "<p>5 rows × 40 columns</p>\n",
       "</div>"
      ],
      "text/plain": [
       "    surname  answer  kol_bukw okon1 okon2 okon3 okon4  okon1_bool  okon2_bool  \\\n",
       "0  Аалтонен       1         8     н    ен   нен  онен           1           1   \n",
       "1       Аар       0         3     р    ар   аар   аар           1           0   \n",
       "2     Аарон       0         5     н    он   рон  арон           1           1   \n",
       "3     ААРОН       0         5     н    он   рон  арон           1           1   \n",
       "4    Аарона       0         6     а    на   она  рона           1           1   \n",
       "\n",
       "   okon3_bool  ...  t  r  s  l  chh  fe  ee  k  p  u  \n",
       "0           0  ...  1  0  0  1    0   0   0  0  0  0  \n",
       "1           0  ...  0  1  0  0    0   0   0  0  0  0  \n",
       "2           0  ...  0  1  0  0    0   0   0  0  0  0  \n",
       "3           0  ...  0  1  0  0    0   0   0  0  0  0  \n",
       "4           1  ...  0  1  0  0    0   0   0  0  0  0  \n",
       "\n",
       "[5 rows x 40 columns]"
      ]
     },
     "execution_count": 8,
     "metadata": {},
     "output_type": "execute_result"
    }
   ],
   "source": [
    "surname_data.head()"
   ]
  },
  {
   "cell_type": "code",
   "execution_count": 9,
   "metadata": {
    "ExecuteTime": {
     "end_time": "2020-03-03T21:44:59.322738Z",
     "start_time": "2020-03-03T21:44:59.021542Z"
    }
   },
   "outputs": [
    {
     "data": {
      "text/html": [
       "<div>\n",
       "<style scoped>\n",
       "    .dataframe tbody tr th:only-of-type {\n",
       "        vertical-align: middle;\n",
       "    }\n",
       "\n",
       "    .dataframe tbody tr th {\n",
       "        vertical-align: top;\n",
       "    }\n",
       "\n",
       "    .dataframe thead th {\n",
       "        text-align: right;\n",
       "    }\n",
       "</style>\n",
       "<table border=\"1\" class=\"dataframe\">\n",
       "  <thead>\n",
       "    <tr style=\"text-align: right;\">\n",
       "      <th></th>\n",
       "      <th>answer</th>\n",
       "      <th>kol_bukw</th>\n",
       "      <th>okon1_bool</th>\n",
       "      <th>okon2_bool</th>\n",
       "      <th>okon3_bool</th>\n",
       "      <th>okon4_bool</th>\n",
       "      <th>sufix_bool</th>\n",
       "      <th>probel</th>\n",
       "      <th>tire</th>\n",
       "      <th>shrift</th>\n",
       "      <th>...</th>\n",
       "      <th>t</th>\n",
       "      <th>r</th>\n",
       "      <th>s</th>\n",
       "      <th>l</th>\n",
       "      <th>chh</th>\n",
       "      <th>fe</th>\n",
       "      <th>ee</th>\n",
       "      <th>k</th>\n",
       "      <th>p</th>\n",
       "      <th>u</th>\n",
       "    </tr>\n",
       "  </thead>\n",
       "  <tbody>\n",
       "    <tr>\n",
       "      <td>count</td>\n",
       "      <td>101408.000000</td>\n",
       "      <td>101408.000000</td>\n",
       "      <td>101408.000000</td>\n",
       "      <td>101408.000000</td>\n",
       "      <td>101408.000000</td>\n",
       "      <td>101408.000000</td>\n",
       "      <td>101408.000000</td>\n",
       "      <td>101408.000000</td>\n",
       "      <td>101408.000000</td>\n",
       "      <td>101408.000000</td>\n",
       "      <td>...</td>\n",
       "      <td>101408.000000</td>\n",
       "      <td>101408.000000</td>\n",
       "      <td>101408.000000</td>\n",
       "      <td>101408.000000</td>\n",
       "      <td>101408.000000</td>\n",
       "      <td>101408.000000</td>\n",
       "      <td>101408.000000</td>\n",
       "      <td>101408.000000</td>\n",
       "      <td>101408.000000</td>\n",
       "      <td>101408.000000</td>\n",
       "    </tr>\n",
       "    <tr>\n",
       "      <td>mean</td>\n",
       "      <td>0.104903</td>\n",
       "      <td>8.450152</td>\n",
       "      <td>0.774702</td>\n",
       "      <td>0.338859</td>\n",
       "      <td>0.111934</td>\n",
       "      <td>0.029692</td>\n",
       "      <td>0.195882</td>\n",
       "      <td>0.001045</td>\n",
       "      <td>0.008126</td>\n",
       "      <td>0.540342</td>\n",
       "      <td>...</td>\n",
       "      <td>0.476935</td>\n",
       "      <td>0.547215</td>\n",
       "      <td>0.393677</td>\n",
       "      <td>0.352773</td>\n",
       "      <td>0.024278</td>\n",
       "      <td>0.059926</td>\n",
       "      <td>0.031743</td>\n",
       "      <td>0.393135</td>\n",
       "      <td>0.236835</td>\n",
       "      <td>0.244488</td>\n",
       "    </tr>\n",
       "    <tr>\n",
       "      <td>std</td>\n",
       "      <td>0.306430</td>\n",
       "      <td>2.873555</td>\n",
       "      <td>0.417780</td>\n",
       "      <td>0.473324</td>\n",
       "      <td>0.315287</td>\n",
       "      <td>0.169737</td>\n",
       "      <td>0.396880</td>\n",
       "      <td>0.037406</td>\n",
       "      <td>0.093012</td>\n",
       "      <td>0.657531</td>\n",
       "      <td>...</td>\n",
       "      <td>0.648098</td>\n",
       "      <td>0.641459</td>\n",
       "      <td>0.607149</td>\n",
       "      <td>0.544090</td>\n",
       "      <td>0.154679</td>\n",
       "      <td>0.249623</td>\n",
       "      <td>0.177829</td>\n",
       "      <td>0.570076</td>\n",
       "      <td>0.463004</td>\n",
       "      <td>0.471954</td>\n",
       "    </tr>\n",
       "    <tr>\n",
       "      <td>min</td>\n",
       "      <td>0.000000</td>\n",
       "      <td>1.000000</td>\n",
       "      <td>0.000000</td>\n",
       "      <td>0.000000</td>\n",
       "      <td>0.000000</td>\n",
       "      <td>0.000000</td>\n",
       "      <td>0.000000</td>\n",
       "      <td>0.000000</td>\n",
       "      <td>0.000000</td>\n",
       "      <td>0.000000</td>\n",
       "      <td>...</td>\n",
       "      <td>0.000000</td>\n",
       "      <td>0.000000</td>\n",
       "      <td>0.000000</td>\n",
       "      <td>0.000000</td>\n",
       "      <td>0.000000</td>\n",
       "      <td>0.000000</td>\n",
       "      <td>0.000000</td>\n",
       "      <td>0.000000</td>\n",
       "      <td>0.000000</td>\n",
       "      <td>0.000000</td>\n",
       "    </tr>\n",
       "    <tr>\n",
       "      <td>50%</td>\n",
       "      <td>0.000000</td>\n",
       "      <td>8.000000</td>\n",
       "      <td>1.000000</td>\n",
       "      <td>0.000000</td>\n",
       "      <td>0.000000</td>\n",
       "      <td>0.000000</td>\n",
       "      <td>0.000000</td>\n",
       "      <td>0.000000</td>\n",
       "      <td>0.000000</td>\n",
       "      <td>0.000000</td>\n",
       "      <td>...</td>\n",
       "      <td>0.000000</td>\n",
       "      <td>0.000000</td>\n",
       "      <td>0.000000</td>\n",
       "      <td>0.000000</td>\n",
       "      <td>0.000000</td>\n",
       "      <td>0.000000</td>\n",
       "      <td>0.000000</td>\n",
       "      <td>0.000000</td>\n",
       "      <td>0.000000</td>\n",
       "      <td>0.000000</td>\n",
       "    </tr>\n",
       "    <tr>\n",
       "      <td>max</td>\n",
       "      <td>1.000000</td>\n",
       "      <td>33.000000</td>\n",
       "      <td>1.000000</td>\n",
       "      <td>1.000000</td>\n",
       "      <td>1.000000</td>\n",
       "      <td>1.000000</td>\n",
       "      <td>1.000000</td>\n",
       "      <td>3.000000</td>\n",
       "      <td>3.000000</td>\n",
       "      <td>2.000000</td>\n",
       "      <td>...</td>\n",
       "      <td>4.000000</td>\n",
       "      <td>4.000000</td>\n",
       "      <td>4.000000</td>\n",
       "      <td>4.000000</td>\n",
       "      <td>2.000000</td>\n",
       "      <td>2.000000</td>\n",
       "      <td>2.000000</td>\n",
       "      <td>4.000000</td>\n",
       "      <td>3.000000</td>\n",
       "      <td>4.000000</td>\n",
       "    </tr>\n",
       "  </tbody>\n",
       "</table>\n",
       "<p>6 rows × 34 columns</p>\n",
       "</div>"
      ],
      "text/plain": [
       "              answer       kol_bukw     okon1_bool     okon2_bool  \\\n",
       "count  101408.000000  101408.000000  101408.000000  101408.000000   \n",
       "mean        0.104903       8.450152       0.774702       0.338859   \n",
       "std         0.306430       2.873555       0.417780       0.473324   \n",
       "min         0.000000       1.000000       0.000000       0.000000   \n",
       "50%         0.000000       8.000000       1.000000       0.000000   \n",
       "max         1.000000      33.000000       1.000000       1.000000   \n",
       "\n",
       "          okon3_bool     okon4_bool     sufix_bool         probel  \\\n",
       "count  101408.000000  101408.000000  101408.000000  101408.000000   \n",
       "mean        0.111934       0.029692       0.195882       0.001045   \n",
       "std         0.315287       0.169737       0.396880       0.037406   \n",
       "min         0.000000       0.000000       0.000000       0.000000   \n",
       "50%         0.000000       0.000000       0.000000       0.000000   \n",
       "max         1.000000       1.000000       1.000000       3.000000   \n",
       "\n",
       "                tire         shrift  ...              t              r  \\\n",
       "count  101408.000000  101408.000000  ...  101408.000000  101408.000000   \n",
       "mean        0.008126       0.540342  ...       0.476935       0.547215   \n",
       "std         0.093012       0.657531  ...       0.648098       0.641459   \n",
       "min         0.000000       0.000000  ...       0.000000       0.000000   \n",
       "50%         0.000000       0.000000  ...       0.000000       0.000000   \n",
       "max         3.000000       2.000000  ...       4.000000       4.000000   \n",
       "\n",
       "                   s              l            chh             fe  \\\n",
       "count  101408.000000  101408.000000  101408.000000  101408.000000   \n",
       "mean        0.393677       0.352773       0.024278       0.059926   \n",
       "std         0.607149       0.544090       0.154679       0.249623   \n",
       "min         0.000000       0.000000       0.000000       0.000000   \n",
       "50%         0.000000       0.000000       0.000000       0.000000   \n",
       "max         4.000000       4.000000       2.000000       2.000000   \n",
       "\n",
       "                  ee              k              p              u  \n",
       "count  101408.000000  101408.000000  101408.000000  101408.000000  \n",
       "mean        0.031743       0.393135       0.236835       0.244488  \n",
       "std         0.177829       0.570076       0.463004       0.471954  \n",
       "min         0.000000       0.000000       0.000000       0.000000  \n",
       "50%         0.000000       0.000000       0.000000       0.000000  \n",
       "max         2.000000       4.000000       3.000000       4.000000  \n",
       "\n",
       "[6 rows x 34 columns]"
      ]
     },
     "execution_count": 9,
     "metadata": {},
     "output_type": "execute_result"
    }
   ],
   "source": [
    "surname_data.describe(percentiles=[])"
   ]
  },
  {
   "cell_type": "markdown",
   "metadata": {},
   "source": [
    "**Аналогично обработаем данные тестовой выборки**"
   ]
  },
  {
   "cell_type": "code",
   "execution_count": 10,
   "metadata": {
    "ExecuteTime": {
     "end_time": "2020-03-03T21:45:11.237092Z",
     "start_time": "2020-03-03T21:44:59.325729Z"
    }
   },
   "outputs": [],
   "source": [
    "surname_test['kol_bukw'] = [len(element) for element in surname_test['surname']] \n",
    "\n",
    "# Cтолбцы с последними буквами\n",
    "surname_test['okon1'] = [element[-1:].lower() for element in surname_test.surname]\n",
    "surname_test['okon2'] = [element[-2:].lower() for element in surname_test['surname']]\n",
    "surname_test['okon3'] = [element[-3:].lower() for element in surname_test['surname']]\n",
    "surname_test['okon4'] = [element[-4:].lower() for element in surname_test.surname]\n",
    "surname_test['okon1_bool'] = np.where(surname_test.okon1.isin(okonch1),1,0)\n",
    "surname_test['okon2_bool'] = np.where(surname_test.okon2.isin(okonchanie),1,0)\n",
    "surname_test['okon3_bool'] = np.where(surname_test.okon3.isin(okonchanie),1,0)\n",
    "surname_test['okon4_bool'] = np.where(surname_test.okon4.isin(okonch4),1,0)\n",
    "\n",
    "# Суффикс слова \n",
    "surname_test['sufix'] = [element[-4:-2].lower() for element in surname_test['surname']]\n",
    "surname_test['sufix_bool'] = np.where(surname_test.sufix.isin(suf),1,0)\n",
    "\n",
    "# Шрифт и спец.символы\n",
    "surname_test['probel'] = [element.count(' ') for element in surname_test.surname]\n",
    "surname_test['tire'] = [element.count('-') for element in surname_test.surname]\n",
    "surname_test['shrift'] = [shrift(element) for element in surname_test.surname]\n",
    "surname_test['symbols'] = [element.count(\"«\")+element.count(\"»\")+element.count('“')+element.count('”')+\\\n",
    "                           element.count(\" \") for element in surname_test.surname]\n",
    "# Буквенный состав слова\n",
    "surname_test['glasnie'] = [kol_glas(element) for element in surname_test.surname]\n",
    "surname_test['soglasnie'] = [kol_soglas(element) for element in surname_test.surname]\n",
    "surname_test['znaki'] = [znaki(element) for element in surname_test.surname]\n",
    "surname_test['povtorenie'] = [povtor(element) for element in surname_test.surname]\n",
    "surname_test['povtorenie3'] = [povtor3(element) for element in surname_test.surname]\n",
    "\n",
    "# Отдельные буквы\n",
    "surname_test['ya'] = [ya(element) for element in surname_test.surname]\n",
    "surname_test['a'] = [a(element) for element in surname_test.surname]\n",
    "surname_test['v'] = [v(element) for element in surname_test.surname]\n",
    "surname_test['n'] = [n(element) for element in surname_test.surname]\n",
    "surname_test['m'] = [m(element) for element in surname_test.surname]\n",
    "\n",
    "surname_test['o'] = [o(element) for element in surname_test.surname]\n",
    "surname_test['e'] = [e(element) for element in surname_test.surname]\n",
    "surname_test['i'] = [i(element) for element in surname_test.surname]\n",
    "surname_test['t'] = [t(element) for element in surname_test.surname]\n",
    "surname_test['r'] = [r(element) for element in surname_test.surname]\n",
    "surname_test['s'] = [s(element) for element in surname_test.surname]\n",
    "surname_test['l'] = [l(element) for element in surname_test.surname]\n",
    "\n",
    "surname_test['chh'] = [chh(element) for element in surname_test.surname]\n",
    "surname_test['fe'] = [fe(element) for element in surname_test.surname]\n",
    "surname_test['ee'] = [ee(element) for element in surname_test.surname]\n",
    "\n",
    "surname_test['k'] = [k(element) for element in surname_test.surname]\n",
    "surname_test['p'] = [p(element) for element in surname_test.surname]\n",
    "surname_test['u'] = [u(element) for element in surname_test.surname]"
   ]
  },
  {
   "cell_type": "code",
   "execution_count": 11,
   "metadata": {
    "ExecuteTime": {
     "end_time": "2020-03-03T21:45:11.277933Z",
     "start_time": "2020-03-03T21:45:11.239025Z"
    }
   },
   "outputs": [
    {
     "data": {
      "text/html": [
       "<div>\n",
       "<style scoped>\n",
       "    .dataframe tbody tr th:only-of-type {\n",
       "        vertical-align: middle;\n",
       "    }\n",
       "\n",
       "    .dataframe tbody tr th {\n",
       "        vertical-align: top;\n",
       "    }\n",
       "\n",
       "    .dataframe thead th {\n",
       "        text-align: right;\n",
       "    }\n",
       "</style>\n",
       "<table border=\"1\" class=\"dataframe\">\n",
       "  <thead>\n",
       "    <tr style=\"text-align: right;\">\n",
       "      <th></th>\n",
       "      <th>surname</th>\n",
       "      <th>kol_bukw</th>\n",
       "      <th>okon1</th>\n",
       "      <th>okon2</th>\n",
       "      <th>okon3</th>\n",
       "      <th>okon4</th>\n",
       "      <th>okon1_bool</th>\n",
       "      <th>okon2_bool</th>\n",
       "      <th>okon3_bool</th>\n",
       "      <th>okon4_bool</th>\n",
       "      <th>...</th>\n",
       "      <th>t</th>\n",
       "      <th>r</th>\n",
       "      <th>s</th>\n",
       "      <th>l</th>\n",
       "      <th>chh</th>\n",
       "      <th>fe</th>\n",
       "      <th>ee</th>\n",
       "      <th>k</th>\n",
       "      <th>p</th>\n",
       "      <th>u</th>\n",
       "    </tr>\n",
       "  </thead>\n",
       "  <tbody>\n",
       "    <tr>\n",
       "      <td>0</td>\n",
       "      <td>Аалто</td>\n",
       "      <td>5</td>\n",
       "      <td>о</td>\n",
       "      <td>то</td>\n",
       "      <td>лто</td>\n",
       "      <td>алто</td>\n",
       "      <td>1</td>\n",
       "      <td>0</td>\n",
       "      <td>0</td>\n",
       "      <td>0</td>\n",
       "      <td>...</td>\n",
       "      <td>1</td>\n",
       "      <td>0</td>\n",
       "      <td>0</td>\n",
       "      <td>1</td>\n",
       "      <td>0</td>\n",
       "      <td>0</td>\n",
       "      <td>0</td>\n",
       "      <td>0</td>\n",
       "      <td>0</td>\n",
       "      <td>0</td>\n",
       "    </tr>\n",
       "    <tr>\n",
       "      <td>1</td>\n",
       "      <td>ААР</td>\n",
       "      <td>3</td>\n",
       "      <td>р</td>\n",
       "      <td>ар</td>\n",
       "      <td>аар</td>\n",
       "      <td>аар</td>\n",
       "      <td>1</td>\n",
       "      <td>0</td>\n",
       "      <td>0</td>\n",
       "      <td>0</td>\n",
       "      <td>...</td>\n",
       "      <td>0</td>\n",
       "      <td>1</td>\n",
       "      <td>0</td>\n",
       "      <td>0</td>\n",
       "      <td>0</td>\n",
       "      <td>0</td>\n",
       "      <td>0</td>\n",
       "      <td>0</td>\n",
       "      <td>0</td>\n",
       "      <td>0</td>\n",
       "    </tr>\n",
       "    <tr>\n",
       "      <td>2</td>\n",
       "      <td>Аара</td>\n",
       "      <td>4</td>\n",
       "      <td>а</td>\n",
       "      <td>ра</td>\n",
       "      <td>ара</td>\n",
       "      <td>аара</td>\n",
       "      <td>1</td>\n",
       "      <td>1</td>\n",
       "      <td>0</td>\n",
       "      <td>0</td>\n",
       "      <td>...</td>\n",
       "      <td>0</td>\n",
       "      <td>1</td>\n",
       "      <td>0</td>\n",
       "      <td>0</td>\n",
       "      <td>0</td>\n",
       "      <td>0</td>\n",
       "      <td>0</td>\n",
       "      <td>0</td>\n",
       "      <td>0</td>\n",
       "      <td>0</td>\n",
       "    </tr>\n",
       "    <tr>\n",
       "      <td>3</td>\n",
       "      <td>Ааре</td>\n",
       "      <td>4</td>\n",
       "      <td>е</td>\n",
       "      <td>ре</td>\n",
       "      <td>аре</td>\n",
       "      <td>ааре</td>\n",
       "      <td>1</td>\n",
       "      <td>0</td>\n",
       "      <td>0</td>\n",
       "      <td>0</td>\n",
       "      <td>...</td>\n",
       "      <td>0</td>\n",
       "      <td>1</td>\n",
       "      <td>0</td>\n",
       "      <td>0</td>\n",
       "      <td>0</td>\n",
       "      <td>0</td>\n",
       "      <td>0</td>\n",
       "      <td>0</td>\n",
       "      <td>0</td>\n",
       "      <td>0</td>\n",
       "    </tr>\n",
       "    <tr>\n",
       "      <td>4</td>\n",
       "      <td>Аарон</td>\n",
       "      <td>5</td>\n",
       "      <td>н</td>\n",
       "      <td>он</td>\n",
       "      <td>рон</td>\n",
       "      <td>арон</td>\n",
       "      <td>1</td>\n",
       "      <td>1</td>\n",
       "      <td>0</td>\n",
       "      <td>0</td>\n",
       "      <td>...</td>\n",
       "      <td>0</td>\n",
       "      <td>1</td>\n",
       "      <td>0</td>\n",
       "      <td>0</td>\n",
       "      <td>0</td>\n",
       "      <td>0</td>\n",
       "      <td>0</td>\n",
       "      <td>0</td>\n",
       "      <td>0</td>\n",
       "      <td>0</td>\n",
       "    </tr>\n",
       "  </tbody>\n",
       "</table>\n",
       "<p>5 rows × 39 columns</p>\n",
       "</div>"
      ],
      "text/plain": [
       "  surname  kol_bukw okon1 okon2 okon3 okon4  okon1_bool  okon2_bool  \\\n",
       "0   Аалто         5     о    то   лто  алто           1           0   \n",
       "1     ААР         3     р    ар   аар   аар           1           0   \n",
       "2    Аара         4     а    ра   ара  аара           1           1   \n",
       "3    Ааре         4     е    ре   аре  ааре           1           0   \n",
       "4   Аарон         5     н    он   рон  арон           1           1   \n",
       "\n",
       "   okon3_bool  okon4_bool  ...  t  r  s  l  chh  fe  ee  k  p  u  \n",
       "0           0           0  ...  1  0  0  1    0   0   0  0  0  0  \n",
       "1           0           0  ...  0  1  0  0    0   0   0  0  0  0  \n",
       "2           0           0  ...  0  1  0  0    0   0   0  0  0  0  \n",
       "3           0           0  ...  0  1  0  0    0   0   0  0  0  0  \n",
       "4           0           0  ...  0  1  0  0    0   0   0  0  0  0  \n",
       "\n",
       "[5 rows x 39 columns]"
      ]
     },
     "execution_count": 11,
     "metadata": {},
     "output_type": "execute_result"
    }
   ],
   "source": [
    "surname_test.head()"
   ]
  },
  {
   "cell_type": "code",
   "execution_count": 38,
   "metadata": {
    "ExecuteTime": {
     "end_time": "2020-03-04T17:00:39.688302Z",
     "start_time": "2020-03-04T17:00:35.231703Z"
    }
   },
   "outputs": [
    {
     "data": {
      "text/plain": [
       "<matplotlib.axes._subplots.AxesSubplot at 0x23b4aeac6c8>"
      ]
     },
     "execution_count": 38,
     "metadata": {},
     "output_type": "execute_result"
    },
    {
     "data": {
      "image/png": "[encoded data removed]",
      "text/plain": [
       "<Figure size 432x288 with 1 Axes>"
      ]
     },
     "metadata": {
      "needs_background": "light"
     },
     "output_type": "display_data"
    }
   ],
   "source": [
    "sns.barplot(surname_data.kol_bukw,surname_data.answer)"
   ]
  },
  {
   "cell_type": "markdown",
   "metadata": {},
   "source": [
    "## 4. Задача целевого значения и признаков"
   ]
  },
  {
   "cell_type": "code",
   "execution_count": 12,
   "metadata": {
    "ExecuteTime": {
     "end_time": "2020-03-03T21:45:11.367682Z",
     "start_time": "2020-03-03T21:45:11.285901Z"
    }
   },
   "outputs": [],
   "source": [
    "X, y =  surname_data.drop('answer', axis=1).select_dtypes(include = ['float64', 'int64']),\\\n",
    "        surname_data['answer']"
   ]
  },
  {
   "cell_type": "markdown",
   "metadata": {},
   "source": [
    "**Разделим обучающую выборку еще раз на две для тренировки и проверки качества**"
   ]
  },
  {
   "cell_type": "code",
   "execution_count": 13,
   "metadata": {
    "ExecuteTime": {
     "end_time": "2020-03-03T21:45:11.432509Z",
     "start_time": "2020-03-03T21:45:11.370675Z"
    }
   },
   "outputs": [],
   "source": [
    "X_train, X_test, y_train, y_test = train_test_split(X, y, test_size = 0.33, random_state = 42)"
   ]
  },
  {
   "cell_type": "markdown",
   "metadata": {},
   "source": [
    "## 5. Построение модели"
   ]
  },
  {
   "cell_type": "markdown",
   "metadata": {},
   "source": [
    "**Сначала построим модель с базовыми параметрами**"
   ]
  },
  {
   "cell_type": "code",
   "execution_count": 14,
   "metadata": {
    "ExecuteTime": {
     "end_time": "2020-03-03T21:45:21.632050Z",
     "start_time": "2020-03-03T21:45:11.436500Z"
    }
   },
   "outputs": [],
   "source": [
    "model = XGBClassifier(scoring= 'roc_auc')\n",
    "model.fit(X_train, y_train.values.ravel())\n",
    "\n",
    "y_pred_train = model.predict(X_train)\n",
    "#print (classification_report(y_train, y_pred_train))\n",
    "\n",
    "y_pred = model.predict(X_test)\n",
    "#print (classification_report(y_test, y_pred))"
   ]
  },
  {
   "cell_type": "code",
   "execution_count": 15,
   "metadata": {
    "ExecuteTime": {
     "end_time": "2020-03-03T21:45:22.393297Z",
     "start_time": "2020-03-03T21:45:21.636040Z"
    }
   },
   "outputs": [
    {
     "data": {
      "text/plain": [
       "<matplotlib.axes._subplots.AxesSubplot at 0x23b304b3288>"
      ]
     },
     "execution_count": 15,
     "metadata": {},
     "output_type": "execute_result"
    },
    {
     "data": {
      "image/png": "[encoded data removed]",
      "text/plain": [
       "<Figure size 432x288 with 1 Axes>"
      ]
     },
     "metadata": {
      "needs_background": "light"
     },
     "output_type": "display_data"
    }
   ],
   "source": [
    "xgb.plot_importance(model)"
   ]
  },
  {
   "cell_type": "code",
   "execution_count": 16,
   "metadata": {
    "ExecuteTime": {
     "end_time": "2020-03-03T21:45:22.539932Z",
     "start_time": "2020-03-03T21:45:22.396288Z"
    }
   },
   "outputs": [],
   "source": [
    "y_pred = model.predict_proba(X_test)[:,1]"
   ]
  },
  {
   "cell_type": "markdown",
   "metadata": {},
   "source": [
    "**Оценим точность по ROC AUC**"
   ]
  },
  {
   "cell_type": "code",
   "execution_count": 17,
   "metadata": {
    "ExecuteTime": {
     "end_time": "2020-03-03T21:45:22.566873Z",
     "start_time": "2020-03-03T21:45:22.542926Z"
    }
   },
   "outputs": [
    {
     "data": {
      "text/plain": [
       "0.8682365116208582"
      ]
     },
     "execution_count": 17,
     "metadata": {},
     "output_type": "execute_result"
    }
   ],
   "source": [
    "roc_auc_score(y_test, y_pred)"
   ]
  },
  {
   "cell_type": "markdown",
   "metadata": {},
   "source": [
    "## 6. Подбор оптимальных параметров модели"
   ]
  },
  {
   "cell_type": "code",
   "execution_count": 18,
   "metadata": {
    "ExecuteTime": {
     "end_time": "2020-03-03T21:45:30.669323Z",
     "start_time": "2020-03-03T21:45:30.654366Z"
    },
    "scrolled": true
   },
   "outputs": [
    {
     "data": {
      "text/plain": [
       "XGBClassifier(base_score=None, booster=None, colsample_bylevel=None,\n",
       "              colsample_bynode=None, colsample_bytree=None, gamma=None,\n",
       "              gpu_id=None, importance_type='gain', interaction_constraints=None,\n",
       "              learning_rate=None, max_delta_step=None, max_depth=None,\n",
       "              min_child_weight=None, missing=nan, monotone_constraints=None,\n",
       "              n_estimators=100, n_jobs=None, num_parallel_tree=None,\n",
       "              objective='binary:logistic', random_state=None, reg_alpha=None,\n",
       "              reg_lambda=None, scale_pos_weight=None, subsample=None,\n",
       "              tree_method=None, validate_parameters=False, verbosity=None)"
      ]
     },
     "execution_count": 18,
     "metadata": {},
     "output_type": "execute_result"
    }
   ],
   "source": [
    "model = XGBClassifier()\n",
    "model"
   ]
  },
  {
   "cell_type": "code",
   "execution_count": 19,
   "metadata": {
    "ExecuteTime": {
     "end_time": "2020-03-03T21:45:34.118009Z",
     "start_time": "2020-03-03T21:45:34.112026Z"
    }
   },
   "outputs": [],
   "source": [
    "params = {\n",
    "        'min_child_weight': [1, 3, 6],\n",
    "        'subsample': [0.5, 0.7, 1],\n",
    "        'colsample_bytree': [0.5, 0.7, 1],\n",
    "        'max_depth': [ 6, 8, 10],\n",
    "        'n_estimators': [ 100, 150, 200],\n",
    "        'learning_rate': [ 0.001, 0.01, 0.1, 0.2, 0.3],\n",
    "        'colsample_bylevel' : [0.5, 0.7, 1],\n",
    "        'colsample_bytree': [0.7, 1],\n",
    "        'gamma':[0,1,5,10]\n",
    "        }"
   ]
  },
  {
   "cell_type": "code",
   "execution_count": 22,
   "metadata": {
    "ExecuteTime": {
     "end_time": "2020-03-03T21:47:18.237137Z",
     "start_time": "2020-03-03T21:47:18.228162Z"
    }
   },
   "outputs": [
    {
     "data": {
      "text/plain": [
       "RandomizedSearchCV(cv=5, error_score='raise-deprecating',\n",
       "                   estimator=XGBClassifier(base_score=None, booster=None,\n",
       "                                           colsample_bylevel=None,\n",
       "                                           colsample_bynode=None,\n",
       "                                           colsample_bytree=None, gamma=None,\n",
       "                                           gpu_id=None, importance_type='gain',\n",
       "                                           interaction_constraints=None,\n",
       "                                           learning_rate=None,\n",
       "                                           max_delta_step=None, max_depth=None,\n",
       "                                           min_child_weight=None, missing=nan,\n",
       "                                           monotone_co...\n",
       "                   iid='warn', n_iter=15, n_jobs=-1,\n",
       "                   param_distributions={'colsample_bylevel': [0.5, 0.7, 1],\n",
       "                                        'colsample_bytree': [0.7, 1],\n",
       "                                        'gamma': [0, 1, 5, 10],\n",
       "                                        'learning_rate': [0.001, 0.01, 0.1, 0.2,\n",
       "                                                          0.3],\n",
       "                                        'max_depth': [6, 8, 10],\n",
       "                                        'min_child_weight': [1, 3, 6],\n",
       "                                        'n_estimators': [100, 150, 200],\n",
       "                                        'subsample': [0.5, 0.7, 1]},\n",
       "                   pre_dispatch='2*n_jobs', random_state=None, refit=True,\n",
       "                   return_train_score=False, scoring='roc_auc', verbose=3)"
      ]
     },
     "execution_count": 22,
     "metadata": {},
     "output_type": "execute_result"
    }
   ],
   "source": [
    "clf = RandomizedSearchCV(model, params, n_jobs=-1, cv=5, scoring='roc_auc', verbose=3, refit=True, n_iter=15)\n",
    "clf"
   ]
  },
  {
   "cell_type": "code",
   "execution_count": 23,
   "metadata": {
    "ExecuteTime": {
     "end_time": "2020-03-03T21:57:26.064293Z",
     "start_time": "2020-03-03T21:47:20.905634Z"
    },
    "scrolled": true
   },
   "outputs": [
    {
     "name": "stdout",
     "output_type": "stream",
     "text": [
      "Fitting 5 folds for each of 15 candidates, totalling 75 fits\n"
     ]
    },
    {
     "name": "stderr",
     "output_type": "stream",
     "text": [
      "[Parallel(n_jobs=-1)]: Using backend LokyBackend with 4 concurrent workers.\n",
      "[Parallel(n_jobs=-1)]: Done  24 tasks      | elapsed:  2.8min\n",
      "[Parallel(n_jobs=-1)]: Done  75 out of  75 | elapsed:  9.8min finished\n"
     ]
    },
    {
     "data": {
      "text/plain": [
       "RandomizedSearchCV(cv=5, error_score='raise-deprecating',\n",
       "                   estimator=XGBClassifier(base_score=None, booster=None,\n",
       "                                           colsample_bylevel=None,\n",
       "                                           colsample_bynode=None,\n",
       "                                           colsample_bytree=None, gamma=None,\n",
       "                                           gpu_id=None, importance_type='gain',\n",
       "                                           interaction_constraints=None,\n",
       "                                           learning_rate=None,\n",
       "                                           max_delta_step=None, max_depth=None,\n",
       "                                           min_child_weight=None, missing=nan,\n",
       "                                           monotone_co...\n",
       "                   iid='warn', n_iter=15, n_jobs=-1,\n",
       "                   param_distributions={'colsample_bylevel': [0.5, 0.7, 1],\n",
       "                                        'colsample_bytree': [0.7, 1],\n",
       "                                        'gamma': [0, 1, 5, 10],\n",
       "                                        'learning_rate': [0.001, 0.01, 0.1, 0.2,\n",
       "                                                          0.3],\n",
       "                                        'max_depth': [6, 8, 10],\n",
       "                                        'min_child_weight': [1, 3, 6],\n",
       "                                        'n_estimators': [100, 150, 200],\n",
       "                                        'subsample': [0.5, 0.7, 1]},\n",
       "                   pre_dispatch='2*n_jobs', random_state=None, refit=True,\n",
       "                   return_train_score=False, scoring='roc_auc', verbose=3)"
      ]
     },
     "execution_count": 23,
     "metadata": {},
     "output_type": "execute_result"
    }
   ],
   "source": [
    "clf.fit(X_train, y_train.values.ravel())"
   ]
  },
  {
   "cell_type": "markdown",
   "metadata": {},
   "source": [
    "**Лучшие параметры классификатора**"
   ]
  },
  {
   "cell_type": "code",
   "execution_count": 24,
   "metadata": {
    "ExecuteTime": {
     "end_time": "2020-03-03T22:07:53.023993Z",
     "start_time": "2020-03-03T22:07:53.017012Z"
    }
   },
   "outputs": [
    {
     "data": {
      "text/plain": [
       "{'subsample': 0.7,\n",
       " 'n_estimators': 200,\n",
       " 'min_child_weight': 6,\n",
       " 'max_depth': 8,\n",
       " 'learning_rate': 0.1,\n",
       " 'gamma': 5,\n",
       " 'colsample_bytree': 0.7,\n",
       " 'colsample_bylevel': 0.5}"
      ]
     },
     "execution_count": 24,
     "metadata": {},
     "output_type": "execute_result"
    }
   ],
   "source": [
    "clf.best_params_"
   ]
  },
  {
   "cell_type": "code",
   "execution_count": 25,
   "metadata": {
    "ExecuteTime": {
     "end_time": "2020-03-03T22:07:55.719126Z",
     "start_time": "2020-03-03T22:07:55.708154Z"
    }
   },
   "outputs": [
    {
     "data": {
      "text/plain": [
       "XGBClassifier(base_score=0.5, booster=None, colsample_bylevel=0.5,\n",
       "              colsample_bynode=1, colsample_bytree=0.7, gamma=5, gpu_id=-1,\n",
       "              importance_type='gain', interaction_constraints=None,\n",
       "              learning_rate=0.1, max_delta_step=0, max_depth=8,\n",
       "              min_child_weight=6, missing=nan, monotone_constraints=None,\n",
       "              n_estimators=200, n_jobs=0, num_parallel_tree=1,\n",
       "              objective='binary:logistic', random_state=0, reg_alpha=0,\n",
       "              reg_lambda=1, scale_pos_weight=1, subsample=0.7, tree_method=None,\n",
       "              validate_parameters=False, verbosity=None)"
      ]
     },
     "execution_count": 25,
     "metadata": {},
     "output_type": "execute_result"
    }
   ],
   "source": [
    "best_clf = clf.best_estimator_\n",
    "best_clf"
   ]
  },
  {
   "cell_type": "markdown",
   "metadata": {},
   "source": [
    "**Определим точность предсказания по ROC AUC**"
   ]
  },
  {
   "cell_type": "code",
   "execution_count": 26,
   "metadata": {
    "ExecuteTime": {
     "end_time": "2020-03-03T22:08:00.269988Z",
     "start_time": "2020-03-03T22:08:00.009694Z"
    }
   },
   "outputs": [],
   "source": [
    "y_pred = best_clf.predict_proba(X_test)[:,1]"
   ]
  },
  {
   "cell_type": "code",
   "execution_count": 27,
   "metadata": {
    "ExecuteTime": {
     "end_time": "2020-03-03T22:08:01.895483Z",
     "start_time": "2020-03-03T22:08:01.876432Z"
    }
   },
   "outputs": [
    {
     "data": {
      "text/plain": [
       "0.8659360717415528"
      ]
     },
     "execution_count": 27,
     "metadata": {},
     "output_type": "execute_result"
    }
   ],
   "source": [
    "roc_auc_score(y_test, y_pred)"
   ]
  },
  {
   "cell_type": "markdown",
   "metadata": {},
   "source": [
    "## 7. Получение результатов"
   ]
  },
  {
   "cell_type": "code",
   "execution_count": 29,
   "metadata": {
    "ExecuteTime": {
     "end_time": "2020-03-03T22:09:24.688637Z",
     "start_time": "2020-03-03T22:09:24.489142Z"
    }
   },
   "outputs": [],
   "source": [
    "X = surname_test.select_dtypes(include = ['float64', 'int64'])"
   ]
  },
  {
   "cell_type": "code",
   "execution_count": 32,
   "metadata": {
    "ExecuteTime": {
     "end_time": "2020-03-03T22:10:09.170443Z",
     "start_time": "2020-03-03T22:10:08.079275Z"
    }
   },
   "outputs": [
    {
     "data": {
      "text/plain": [
       "array([0.28273404, 0.21129891, 0.33489004, ..., 0.11182114, 0.01351884,\n",
       "       0.00971121], dtype=float32)"
      ]
     },
     "execution_count": 32,
     "metadata": {},
     "output_type": "execute_result"
    }
   ],
   "source": [
    "y_predicted_prob = best_clf.predict_proba(X)[:,1]\n",
    "y_predicted_prob"
   ]
  },
  {
   "cell_type": "code",
   "execution_count": 33,
   "metadata": {
    "ExecuteTime": {
     "end_time": "2020-03-03T22:10:10.590450Z",
     "start_time": "2020-03-03T22:10:10.571619Z"
    }
   },
   "outputs": [
    {
     "data": {
      "text/html": [
       "<div>\n",
       "<style scoped>\n",
       "    .dataframe tbody tr th:only-of-type {\n",
       "        vertical-align: middle;\n",
       "    }\n",
       "\n",
       "    .dataframe tbody tr th {\n",
       "        vertical-align: top;\n",
       "    }\n",
       "\n",
       "    .dataframe thead th {\n",
       "        text-align: right;\n",
       "    }\n",
       "</style>\n",
       "<table border=\"1\" class=\"dataframe\">\n",
       "  <thead>\n",
       "    <tr style=\"text-align: right;\">\n",
       "      <th></th>\n",
       "      <th>Answer</th>\n",
       "    </tr>\n",
       "    <tr>\n",
       "      <th>Id</th>\n",
       "      <th></th>\n",
       "    </tr>\n",
       "  </thead>\n",
       "  <tbody>\n",
       "    <tr>\n",
       "      <td>0</td>\n",
       "      <td>0.282734</td>\n",
       "    </tr>\n",
       "    <tr>\n",
       "      <td>1</td>\n",
       "      <td>0.211299</td>\n",
       "    </tr>\n",
       "    <tr>\n",
       "      <td>2</td>\n",
       "      <td>0.334890</td>\n",
       "    </tr>\n",
       "    <tr>\n",
       "      <td>3</td>\n",
       "      <td>0.442119</td>\n",
       "    </tr>\n",
       "    <tr>\n",
       "      <td>4</td>\n",
       "      <td>0.325426</td>\n",
       "    </tr>\n",
       "    <tr>\n",
       "      <td>...</td>\n",
       "      <td>...</td>\n",
       "    </tr>\n",
       "    <tr>\n",
       "      <td>188915</td>\n",
       "      <td>0.014959</td>\n",
       "    </tr>\n",
       "    <tr>\n",
       "      <td>188916</td>\n",
       "      <td>0.126358</td>\n",
       "    </tr>\n",
       "    <tr>\n",
       "      <td>188917</td>\n",
       "      <td>0.111821</td>\n",
       "    </tr>\n",
       "    <tr>\n",
       "      <td>188918</td>\n",
       "      <td>0.013519</td>\n",
       "    </tr>\n",
       "    <tr>\n",
       "      <td>188919</td>\n",
       "      <td>0.009711</td>\n",
       "    </tr>\n",
       "  </tbody>\n",
       "</table>\n",
       "<p>188920 rows × 1 columns</p>\n",
       "</div>"
      ],
      "text/plain": [
       "          Answer\n",
       "Id              \n",
       "0       0.282734\n",
       "1       0.211299\n",
       "2       0.334890\n",
       "3       0.442119\n",
       "4       0.325426\n",
       "...          ...\n",
       "188915  0.014959\n",
       "188916  0.126358\n",
       "188917  0.111821\n",
       "188918  0.013519\n",
       "188919  0.009711\n",
       "\n",
       "[188920 rows x 1 columns]"
      ]
     },
     "execution_count": 33,
     "metadata": {},
     "output_type": "execute_result"
    }
   ],
   "source": [
    "y = pd.DataFrame(y_predicted_prob, index =None)\n",
    "y = y.rename(columns={0: \"Answer\"})\n",
    "y = y.rename_axis('Id')\n",
    "y"
   ]
  },
  {
   "cell_type": "markdown",
   "metadata": {},
   "source": [
    "Сохраним в файл csv."
   ]
  },
  {
   "cell_type": "code",
   "execution_count": null,
   "metadata": {},
   "outputs": [],
   "source": [
    "y.to_csv('surname_solverxgb.csv')"
   ]
  },
  {
   "cell_type": "code",
   "execution_count": null,
   "metadata": {},
   "outputs": [],
   "source": []
  }
 ],
 "metadata": {
  "kernelspec": {
   "display_name": "Python 3",
   "language": "python",
   "name": "python3"
  },
  "language_info": {
   "codemirror_mode": {
    "name": "ipython",
    "version": 3
   },
   "file_extension": ".py",
   "mimetype": "text/x-python",
   "name": "python",
   "nbconvert_exporter": "python",
   "pygments_lexer": "ipython3",
   "version": "3.7.4"
  },
  "toc": {
   "base_numbering": 1,
   "nav_menu": {},
   "number_sections": false,
   "sideBar": true,
   "skip_h1_title": false,
   "title_cell": "Table of Contents",
   "title_sidebar": "Contents",
   "toc_cell": false,
   "toc_position": {},
   "toc_section_display": true,
   "toc_window_display": true
  }
 },
 "nbformat": 4,
 "nbformat_minor": 2
}
