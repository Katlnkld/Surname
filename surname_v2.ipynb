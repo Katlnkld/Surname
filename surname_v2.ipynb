{
  "nbformat": 4,
  "nbformat_minor": 0,
  "metadata": {
    "accelerator": "GPU",
    "colab": {
      "name": "kaggle surname solver word2vec.ipynb",
      "provenance": [],
      "collapsed_sections": [],
      "toc_visible": true
    },
    "kernelspec": {
      "display_name": "Python 3",
      "language": "python",
      "name": "python3"
    },
    "language_info": {
      "codemirror_mode": {
        "name": "ipython",
        "version": 3
      },
      "file_extension": ".py",
      "mimetype": "text/x-python",
      "name": "python",
      "nbconvert_exporter": "python",
      "pygments_lexer": "ipython3",
      "version": "3.7.4"
    }
  },
  "cells": [
    {
      "cell_type": "markdown",
      "metadata": {
        "id": "JVp5gP-2KVTK"
      },
      "source": [
        "# Проект по распознаванию фамилий\n"
      ]
    },
    {
      "cell_type": "markdown",
      "metadata": {
        "id": "letIFfPNKVTP"
      },
      "source": [
        "Ваша команда разрабатывает продукт для распознавания документов. В качестве одной из подзадач, возникших в этом проекте, нужно построить классификатор, который по фрагменту текста сможет определить, насколько вероятно, что этот текст - чья-то фамилия."
      ]
    },
    {
      "cell_type": "markdown",
      "metadata": {
        "id": "o-zn84UBKVTQ"
      },
      "source": [
        "Для оценки качества решено использовать площадь под ROC-кривой (AUC), учитывайте это при подготовке прогноза на тестовой выборке."
      ]
    },
    {
      "cell_type": "markdown",
      "metadata": {
        "id": "6eMoATv4KVTQ"
      },
      "source": [
        "В этом соревновании вам предстоит решить обычную задачу бинарной классификации, но признаки вам понадобится извлечь из примеров самостоятельно. В вашем распоряжении обучающая выборка, тестовая (на ней нужно спрогнозировать ответы) и пример файла с прогнозами. В примере прогнозов есть некоторый подвох, который специально может ввести вас в заблуждение, но если вы помните, как вычисляется ROC-AUC, вы на него не попадётесь :)\n",
        "\n",
        "Описание файлов:\n",
        "\n",
        "linear_train.txt - обучающая выборка\n",
        "\n",
        "linear_test.txt - тестовая выборка\n",
        "\n",
        "linear_ans_example.txt - пример файла с прогнозами\n",
        "\n",
        "Точность разметки данных\n",
        "Разметка датасета была частично автоматизирована, поэтому некоторые \"фамилии\" из выборки могут вас очень удивить. К сожалению, с этой проблемой часто приходится иметь дело при работе с \"грязными\" данными. В рамках этого задания вам нужно считать разметку выборки идеальной. С одной стороны, вам не нужно думать, как вычистить выборку. С другой стороны, это приведет к тому, что какие-то действительно хорошие идеи признаков могут не заработать."
      ]
    },
    {
      "cell_type": "markdown",
      "metadata": {
        "id": "jxnzSgHaKVTQ"
      },
      "source": [
        "### 1. Импортируем необходимые библиотеки"
      ]
    },
    {
      "cell_type": "code",
      "metadata": {
        "id": "Rj1QdOmGKVTR"
      },
      "source": [
        "import numpy as np\n",
        "import pandas as pd\n",
        "        \n",
        "import matplotlib.pyplot as plt\n",
        "import seaborn as sns\n",
        "sns.set(font_scale = 1)  \n",
        "\n",
        "from sklearn import tree\n",
        "from sklearn.model_selection import GridSearchCV, train_test_split\n",
        "from sklearn.linear_model import LogisticRegression\n",
        "from xgboost import XGBClassifier, plot_importance\n",
        "from sklearn.metrics import roc_auc_score, roc_curve\n",
        "\n",
        "from sklearn.preprocessing import OneHotEncoder\n",
        "\n",
        "from gensim.models import Word2Vec"
      ],
      "execution_count": null,
      "outputs": []
    },
    {
      "cell_type": "markdown",
      "metadata": {
        "id": "ndEvgVS0KVTR"
      },
      "source": [
        "### 2. Прочитаем файлы, обработаем данные."
      ]
    },
    {
      "cell_type": "code",
      "metadata": {
        "id": "c5xwZoSuKVTR"
      },
      "source": [
        "surname_test = pd.read_csv('linear_test.txt', header = None, names=['surname'])\n",
        "surname_data = pd.read_csv('linear_train.txt', header = None, names=['surname', 'answer'])"
      ],
      "execution_count": null,
      "outputs": []
    },
    {
      "cell_type": "code",
      "metadata": {
        "colab": {
          "base_uri": "https://localhost:8080/",
          "height": 204
        },
        "id": "K-bL9Q8KKVTS",
        "outputId": "2cb35d1f-9a6d-4477-e5bc-e9891f739b9c"
      },
      "source": [
        "surname_test.head(5)"
      ],
      "execution_count": null,
      "outputs": [
        {
          "output_type": "execute_result",
          "data": {
            "text/html": [
              "<div>\n",
              "<style scoped>\n",
              "    .dataframe tbody tr th:only-of-type {\n",
              "        vertical-align: middle;\n",
              "    }\n",
              "\n",
              "    .dataframe tbody tr th {\n",
              "        vertical-align: top;\n",
              "    }\n",
              "\n",
              "    .dataframe thead th {\n",
              "        text-align: right;\n",
              "    }\n",
              "</style>\n",
              "<table border=\"1\" class=\"dataframe\">\n",
              "  <thead>\n",
              "    <tr style=\"text-align: right;\">\n",
              "      <th></th>\n",
              "      <th>surname</th>\n",
              "    </tr>\n",
              "  </thead>\n",
              "  <tbody>\n",
              "    <tr>\n",
              "      <th>0</th>\n",
              "      <td>Аалто</td>\n",
              "    </tr>\n",
              "    <tr>\n",
              "      <th>1</th>\n",
              "      <td>ААР</td>\n",
              "    </tr>\n",
              "    <tr>\n",
              "      <th>2</th>\n",
              "      <td>Аара</td>\n",
              "    </tr>\n",
              "    <tr>\n",
              "      <th>3</th>\n",
              "      <td>Ааре</td>\n",
              "    </tr>\n",
              "    <tr>\n",
              "      <th>4</th>\n",
              "      <td>Аарон</td>\n",
              "    </tr>\n",
              "  </tbody>\n",
              "</table>\n",
              "</div>"
            ],
            "text/plain": [
              "  surname\n",
              "0   Аалто\n",
              "1     ААР\n",
              "2    Аара\n",
              "3    Ааре\n",
              "4   Аарон"
            ]
          },
          "metadata": {
            "tags": []
          },
          "execution_count": 3
        }
      ]
    },
    {
      "cell_type": "markdown",
      "metadata": {
        "id": "1i35CAx5KVTT"
      },
      "source": [
        "Напишем небольшие функции, которые пригодятся для создания новых признаков."
      ]
    },
    {
      "cell_type": "code",
      "metadata": {
        "colab": {
          "base_uri": "https://localhost:8080/"
        },
        "id": "ExNtaCl70IFQ",
        "outputId": "63b236e0-b07a-47fa-a726-12c74346105a"
      },
      "source": [
        "print(\"Train\", surname_data.shape)\n",
        "print(\"Test\", surname_test.shape)"
      ],
      "execution_count": null,
      "outputs": [
        {
          "output_type": "stream",
          "text": [
            "Train (101408, 2)\n",
            "Test (188920, 1)\n"
          ],
          "name": "stdout"
        }
      ]
    },
    {
      "cell_type": "code",
      "metadata": {
        "id": "-iphpwL-KVTT"
      },
      "source": [
        "okonchanie = ['ин', 'ын','ов','ев','ан','ой','их','ых', 'ен','ина', 'ына','ова','ева','ких','ая','чик','ски','дзе','ина'\\\n",
        "             'шин', 'кин', 'нко', 'йко', 'ко', 'кий', 'кая', 'тти','ез','ес','лло','сон','ерг','ис', 'ом','ерс','рс'\\\n",
        "             'ной','ным','вой','вым','ном','ой','ым','ом','кой','ким','им']\n",
        "glacnie = ['у', 'е', 'а', 'ы', 'о', 'э', 'я', 'и', 'ю', 'ё' ]\n",
        "soglas = ['й','ц','к','н','г','ш','щ','з','х','ф','в','п','р','л','д','ж','ч','с','м','т','б']\n",
        "znak = ['ь', 'ъ']\n",
        "\n",
        "def kol_glas(st):  \n",
        "    k = 0\n",
        "    st = st.lower()\n",
        "    for i in range(len(st)):\n",
        "        if st[i] in glacnie:\n",
        "            k+=1\n",
        "    return k   \n",
        "\n",
        "def kol_soglas(st):  \n",
        "    k = 0\n",
        "    st = st.lower()\n",
        "    for i in range(len(st)):\n",
        "        if st[i] in soglas:\n",
        "            k+=1\n",
        "    return k\n",
        "\n",
        "def znaki(st):\n",
        "    k = 0\n",
        "    st = st.lower()\n",
        "    for i in range(len(st)):\n",
        "        if st[i] in znak:\n",
        "            k+=1\n",
        "    return k \n",
        "\n",
        "def a(st):\n",
        "    k = 0\n",
        "    st = st.lower()\n",
        "    for i in range(len(st)):\n",
        "        if st[i] == 'а':\n",
        "            k+=1\n",
        "    return k\n",
        "\n",
        "def povtor(st):\n",
        "    k = 0\n",
        "    st = st.lower()\n",
        "    for i in range(len(st)-1):\n",
        "        if st[i] == st[i+1]:\n",
        "            k+=1\n",
        "    return k \n",
        "\n",
        "def n(st):\n",
        "    k = 0\n",
        "    st = st.lower()\n",
        "    for i in range(len(st)):\n",
        "        if st[i] == 'н':\n",
        "            k+=1\n",
        "    return k\n",
        "\n",
        "def m(st):\n",
        "    k = 0\n",
        "    st = st.lower()\n",
        "    for i in range(len(st)):\n",
        "        if st[i] == 'м':\n",
        "            k+=1\n",
        "    return k"
      ],
      "execution_count": null,
      "outputs": []
    },
    {
      "cell_type": "markdown",
      "metadata": {
        "id": "IP7rV9O9KVTT"
      },
      "source": [
        "В тренировочном и тестовом датасетах создадим дополнительные признаки."
      ]
    },
    {
      "cell_type": "code",
      "metadata": {
        "id": "vddbFw4MKVTU"
      },
      "source": [
        "for df in [surname_data, surname_test]:\n",
        "    df['kol_bukw'] = [len(element) for element in df.surname]                       # Количество элементов\n",
        "    df['glasnie'] = [kol_glas(element) for element in df.surname]                   # Количество гласных букв\n",
        "    df['soglasnie'] = [kol_soglas(element) for element in df.surname]               # Количество согласных букв\n",
        "    df['lower'] = [np.where( element.islower(),1,0) for element in df.surname]\n",
        "    df['lower'] = df.lower.astype(int)                                              # Нижний регистр\n",
        "    df['upper'] = [np.where( element.isupper(),1,0) for element in df.surname]\n",
        "    df['upper'] = df.upper.astype(int)                                              # Верхний регистр\n",
        "    df['title'] = [np.where( element.istitle(),1,0) for element in df.surname]\n",
        "    df['title'] = df.title.astype(int)                                              # Начинается с большой буквы\n",
        "    df['okon2'] = [element[-2:].lower() for element in df.surname]                  \n",
        "    df['okon3'] = [element[-3:].lower() for element in df.surname]                  \n",
        "    df['okon2'] = np.where(df.okon2.isin(okonchanie),1,0)                           # Две последние буквы являются окончанием фамилий\n",
        "    df['okon3'] = np.where(df.okon3.isin(okonchanie),1,0)                           # Три последние буквы являются окончанием фамилий\n",
        "    df['symbols'] = [element.count(\"«\")+element.count(\"»\")+element.count('“')       # Количество специальных символов\n",
        "                 +element.count('”')+element.count('-') for element in df.surname]\n",
        "    df['znaki'] = [znaki(element) for element in df.surname]                        # Количество твердых и мягких знаков\n",
        "    df['probel'] = [element.count(' ') for element in df.surname]                   # Количество пробелов\n",
        "    df['a'] = [a(element) for element in df.surname]                                # Количество буквы \"а\"\n",
        "    df['povtory'] = [povtor(element) for element in df.surname]                     # Посторяющиеся друг за другом буквы\n",
        "    df['nm'] = [n(element)+m(element) for element in df.surname]                    # Количество букв м и н\n",
        "    df['szp'] = df.symbols*df.znaki*df.probel\n",
        "    df['okonchanie'] = [element[-3:].lower() for element in df.surname]"
      ],
      "execution_count": null,
      "outputs": []
    },
    {
      "cell_type": "code",
      "metadata": {
        "id": "R9fPxScCrzsy"
      },
      "source": [
        "o = np.array(surname_data.okonchanie.value_counts().head(50).index.tolist())   # 50 самых частых окончаний, которые будут закодированы методом one hot encoding"
      ],
      "execution_count": null,
      "outputs": []
    },
    {
      "cell_type": "code",
      "metadata": {
        "colab": {
          "base_uri": "https://localhost:8080/",
          "height": 204
        },
        "id": "Szjs52GrKVTU",
        "outputId": "f8a55630-585c-4fee-e8af-49f3d2b5a0df"
      },
      "source": [
        "surname_data.head(5)"
      ],
      "execution_count": null,
      "outputs": [
        {
          "output_type": "execute_result",
          "data": {
            "text/html": [
              "<div>\n",
              "<style scoped>\n",
              "    .dataframe tbody tr th:only-of-type {\n",
              "        vertical-align: middle;\n",
              "    }\n",
              "\n",
              "    .dataframe tbody tr th {\n",
              "        vertical-align: top;\n",
              "    }\n",
              "\n",
              "    .dataframe thead th {\n",
              "        text-align: right;\n",
              "    }\n",
              "</style>\n",
              "<table border=\"1\" class=\"dataframe\">\n",
              "  <thead>\n",
              "    <tr style=\"text-align: right;\">\n",
              "      <th></th>\n",
              "      <th>surname</th>\n",
              "      <th>answer</th>\n",
              "      <th>kol_bukw</th>\n",
              "      <th>glasnie</th>\n",
              "      <th>soglasnie</th>\n",
              "      <th>lower</th>\n",
              "      <th>upper</th>\n",
              "      <th>title</th>\n",
              "      <th>okon2</th>\n",
              "      <th>okon3</th>\n",
              "      <th>symbols</th>\n",
              "      <th>znaki</th>\n",
              "      <th>probel</th>\n",
              "      <th>a</th>\n",
              "      <th>povtory</th>\n",
              "      <th>nm</th>\n",
              "      <th>szp</th>\n",
              "      <th>okonchanie</th>\n",
              "    </tr>\n",
              "  </thead>\n",
              "  <tbody>\n",
              "    <tr>\n",
              "      <th>0</th>\n",
              "      <td>Аалтонен</td>\n",
              "      <td>1</td>\n",
              "      <td>8</td>\n",
              "      <td>4</td>\n",
              "      <td>4</td>\n",
              "      <td>0</td>\n",
              "      <td>0</td>\n",
              "      <td>1</td>\n",
              "      <td>1</td>\n",
              "      <td>0</td>\n",
              "      <td>0</td>\n",
              "      <td>0</td>\n",
              "      <td>0</td>\n",
              "      <td>2</td>\n",
              "      <td>1</td>\n",
              "      <td>2</td>\n",
              "      <td>0</td>\n",
              "      <td>нен</td>\n",
              "    </tr>\n",
              "    <tr>\n",
              "      <th>1</th>\n",
              "      <td>Аар</td>\n",
              "      <td>0</td>\n",
              "      <td>3</td>\n",
              "      <td>2</td>\n",
              "      <td>1</td>\n",
              "      <td>0</td>\n",
              "      <td>0</td>\n",
              "      <td>1</td>\n",
              "      <td>0</td>\n",
              "      <td>0</td>\n",
              "      <td>0</td>\n",
              "      <td>0</td>\n",
              "      <td>0</td>\n",
              "      <td>2</td>\n",
              "      <td>1</td>\n",
              "      <td>0</td>\n",
              "      <td>0</td>\n",
              "      <td>аар</td>\n",
              "    </tr>\n",
              "    <tr>\n",
              "      <th>2</th>\n",
              "      <td>Аарон</td>\n",
              "      <td>0</td>\n",
              "      <td>5</td>\n",
              "      <td>3</td>\n",
              "      <td>2</td>\n",
              "      <td>0</td>\n",
              "      <td>0</td>\n",
              "      <td>1</td>\n",
              "      <td>0</td>\n",
              "      <td>0</td>\n",
              "      <td>0</td>\n",
              "      <td>0</td>\n",
              "      <td>0</td>\n",
              "      <td>2</td>\n",
              "      <td>1</td>\n",
              "      <td>1</td>\n",
              "      <td>0</td>\n",
              "      <td>рон</td>\n",
              "    </tr>\n",
              "    <tr>\n",
              "      <th>3</th>\n",
              "      <td>ААРОН</td>\n",
              "      <td>0</td>\n",
              "      <td>5</td>\n",
              "      <td>3</td>\n",
              "      <td>2</td>\n",
              "      <td>0</td>\n",
              "      <td>1</td>\n",
              "      <td>0</td>\n",
              "      <td>0</td>\n",
              "      <td>0</td>\n",
              "      <td>0</td>\n",
              "      <td>0</td>\n",
              "      <td>0</td>\n",
              "      <td>2</td>\n",
              "      <td>1</td>\n",
              "      <td>1</td>\n",
              "      <td>0</td>\n",
              "      <td>рон</td>\n",
              "    </tr>\n",
              "    <tr>\n",
              "      <th>4</th>\n",
              "      <td>Аарона</td>\n",
              "      <td>0</td>\n",
              "      <td>6</td>\n",
              "      <td>4</td>\n",
              "      <td>2</td>\n",
              "      <td>0</td>\n",
              "      <td>0</td>\n",
              "      <td>1</td>\n",
              "      <td>0</td>\n",
              "      <td>0</td>\n",
              "      <td>0</td>\n",
              "      <td>0</td>\n",
              "      <td>0</td>\n",
              "      <td>3</td>\n",
              "      <td>1</td>\n",
              "      <td>1</td>\n",
              "      <td>0</td>\n",
              "      <td>она</td>\n",
              "    </tr>\n",
              "  </tbody>\n",
              "</table>\n",
              "</div>"
            ],
            "text/plain": [
              "    surname  answer  kol_bukw  glasnie  ...  povtory  nm  szp  okonchanie\n",
              "0  Аалтонен       1         8        4  ...        1   2    0         нен\n",
              "1       Аар       0         3        2  ...        1   0    0         аар\n",
              "2     Аарон       0         5        3  ...        1   1    0         рон\n",
              "3     ААРОН       0         5        3  ...        1   1    0         рон\n",
              "4    Аарона       0         6        4  ...        1   1    0         она\n",
              "\n",
              "[5 rows x 18 columns]"
            ]
          },
          "metadata": {
            "tags": []
          },
          "execution_count": 8
        }
      ]
    },
    {
      "cell_type": "markdown",
      "metadata": {
        "id": "VXQ22CkpPSS7"
      },
      "source": [
        "Посмотрим на получившиеся признаки."
      ]
    },
    {
      "cell_type": "code",
      "metadata": {
        "id": "VWVWUbFUPR5Y",
        "colab": {
          "base_uri": "https://localhost:8080/"
        },
        "outputId": "71589079-7a7e-4745-bc9a-425bf60b5c27"
      },
      "source": [
        "surname_data.info()"
      ],
      "execution_count": null,
      "outputs": [
        {
          "output_type": "stream",
          "text": [
            "<class 'pandas.core.frame.DataFrame'>\n",
            "RangeIndex: 101408 entries, 0 to 101407\n",
            "Data columns (total 18 columns):\n",
            " #   Column      Non-Null Count   Dtype \n",
            "---  ------      --------------   ----- \n",
            " 0   surname     101408 non-null  object\n",
            " 1   answer      101408 non-null  int64 \n",
            " 2   kol_bukw    101408 non-null  int64 \n",
            " 3   glasnie     101408 non-null  int64 \n",
            " 4   soglasnie   101408 non-null  int64 \n",
            " 5   lower       101408 non-null  int64 \n",
            " 6   upper       101408 non-null  int64 \n",
            " 7   title       101408 non-null  int64 \n",
            " 8   okon2       101408 non-null  int64 \n",
            " 9   okon3       101408 non-null  int64 \n",
            " 10  symbols     101408 non-null  int64 \n",
            " 11  znaki       101408 non-null  int64 \n",
            " 12  probel      101408 non-null  int64 \n",
            " 13  a           101408 non-null  int64 \n",
            " 14  povtory     101408 non-null  int64 \n",
            " 15  nm          101408 non-null  int64 \n",
            " 16  szp         101408 non-null  int64 \n",
            " 17  okonchanie  101408 non-null  object\n",
            "dtypes: int64(16), object(2)\n",
            "memory usage: 13.9+ MB\n"
          ],
          "name": "stdout"
        }
      ]
    },
    {
      "cell_type": "markdown",
      "metadata": {
        "id": "ZxaT1nV2P5gW"
      },
      "source": [
        "### 3. Визуальный анализ"
      ]
    },
    {
      "cell_type": "markdown",
      "metadata": {
        "id": "UEP_7HLdP5cb"
      },
      "source": [
        "Посмотрим графики распределения некоторых переменных и корреляцию."
      ]
    },
    {
      "cell_type": "code",
      "metadata": {
        "id": "YI_6wqG7P5Y7"
      },
      "source": [
        "non_binary = ['kol_bukw', 'glasnie', 'soglasnie','symbols', 'znaki', 'probel','a']         # Не двоичные признаки"
      ],
      "execution_count": null,
      "outputs": []
    },
    {
      "cell_type": "markdown",
      "metadata": {
        "id": "gMPjTQ_UR4f-"
      },
      "source": [
        "Построим матрицу корреляции. С целевым признаком ничего не коррелирует, однако есть сильная корреляция количества букв и количества согласных. Удалять признаки пока не будем."
      ]
    },
    {
      "cell_type": "code",
      "metadata": {
        "colab": {
          "base_uri": "https://localhost:8080/",
          "height": 544
        },
        "id": "ihmIX_cGP5Vi",
        "outputId": "2e8edc09-8c6e-46de-a36e-5783f40f0d48"
      },
      "source": [
        "plt.figure(figsize=(12,8))\n",
        "corrMatrix = surname_data.corr()\n",
        "sns.heatmap (corrMatrix, annot = True, vmax=0.9)"
      ],
      "execution_count": null,
      "outputs": [
        {
          "output_type": "execute_result",
          "data": {
            "text/plain": [
              "<matplotlib.axes._subplots.AxesSubplot at 0x7fc9c798f490>"
            ]
          },
          "metadata": {
            "tags": []
          },
          "execution_count": 11
        },
        {
          "output_type": "display_data",
          "data": {
            "image/png": "[encoded data removed]",
            "text/plain": [
              "<Figure size 864x576 with 2 Axes>"
            ]
          },
          "metadata": {
            "tags": [],
            "needs_background": "light"
          }
        }
      ]
    },
    {
      "cell_type": "markdown",
      "metadata": {
        "id": "mWaGicVtP5SL"
      },
      "source": [
        "Для не двоичных признаков построим графики распределения."
      ]
    },
    {
      "cell_type": "code",
      "metadata": {
        "id": "twBZHbBvP4-M",
        "colab": {
          "base_uri": "https://localhost:8080/",
          "height": 883
        },
        "outputId": "f0f3cc2e-0f8c-48f8-e6c2-d2d886df74ee"
      },
      "source": [
        "plt.figure(figsize = (20,15))\n",
        "for idx,col in enumerate(surname_data[non_binary]):\n",
        "    plt.subplot(3,3,idx+1)\n",
        "    sns.countplot(x=surname_data[col], hue=surname_data.answer)\n",
        "None"
      ],
      "execution_count": null,
      "outputs": [
        {
          "output_type": "display_data",
          "data": {
            "image/png": "[encoded data removed]",
            "text/plain": [
              "<Figure size 1440x1080 with 7 Axes>"
            ]
          },
          "metadata": {
            "tags": [],
            "needs_background": "light"
          }
        }
      ]
    },
    {
      "cell_type": "markdown",
      "metadata": {
        "id": "Ko2tqZztV2Jg"
      },
      "source": [
        "Стали видны некоторые закономерности, например в фамилиях количество букв не больше 14, почти отсутствуют пробелы и другие символы (что вполне логично)."
      ]
    },
    {
      "cell_type": "markdown",
      "metadata": {
        "id": "JXBhryM46M82"
      },
      "source": [
        "Посмотрим на столбец ответов. Видно, что данные не сбалансированные, поэтому для оценки качества применяется roc_auc."
      ]
    },
    {
      "cell_type": "code",
      "metadata": {
        "colab": {
          "base_uri": "https://localhost:8080/"
        },
        "id": "oGtN9ZCF6anE",
        "outputId": "d362fe09-58c1-4568-a5af-13d1e58dfa25"
      },
      "source": [
        "surname_data.answer.value_counts()"
      ],
      "execution_count": null,
      "outputs": [
        {
          "output_type": "execute_result",
          "data": {
            "text/plain": [
              "0    90770\n",
              "1    10638\n",
              "Name: answer, dtype: int64"
            ]
          },
          "metadata": {
            "tags": []
          },
          "execution_count": 13
        }
      ]
    },
    {
      "cell_type": "markdown",
      "metadata": {
        "id": "om1oq9tuWSe9"
      },
      "source": [
        "### 4. Использование модели векторного представления"
      ]
    },
    {
      "cell_type": "markdown",
      "metadata": {
        "id": "3QoZY-rJWwf9"
      },
      "source": [
        "Чтобу продолжить работу, переведем каждое слово в векторное представление с помощью word2vec."
      ]
    },
    {
      "cell_type": "markdown",
      "metadata": {
        "id": "deVcfehHhoKD"
      },
      "source": [
        ""
      ]
    },
    {
      "cell_type": "code",
      "metadata": {
        "id": "COQg0D63nUaM"
      },
      "source": [
        "def break_3(st):\n",
        "    a = [st[-x:].lower() for x in range(2, 5)]\n",
        "    b = [st[x:x+3].lower() for x in range(0, len(st), 3)]\n",
        "    return a+b"
      ],
      "execution_count": null,
      "outputs": []
    },
    {
      "cell_type": "markdown",
      "metadata": {
        "id": "-N6tDxTP0qQ3"
      },
      "source": [
        "Cоздадим тексты необходимые для обучения word2vec"
      ]
    },
    {
      "cell_type": "code",
      "metadata": {
        "id": "4hKEdecthnob"
      },
      "source": [
        "for df in [surname_data, surname_test]:\n",
        "    df['words']= [break_3(element) for element in df.surname]"
      ],
      "execution_count": null,
      "outputs": []
    },
    {
      "cell_type": "code",
      "metadata": {
        "colab": {
          "base_uri": "https://localhost:8080/"
        },
        "id": "VE04ItJdZojk",
        "outputId": "a462697a-360e-4a79-e410-9fb004054c41"
      },
      "source": [
        "model = Word2Vec(list(pd.concat([surname_data.words, surname_test.words], axis=0)), size=50, window=5, workers=4)\n",
        "#создадим словарь со словами и соответсвующими им векторами\n",
        "w2v = dict(zip(model.wv.index2word, model.wv.syn0))"
      ],
      "execution_count": null,
      "outputs": [
        {
          "output_type": "stream",
          "text": [
            "/usr/local/lib/python3.7/dist-packages/ipykernel_launcher.py:3: DeprecationWarning: Call to deprecated `syn0` (Attribute will be removed in 4.0.0, use self.wv.vectors instead).\n",
            "  This is separate from the ipykernel package so we can avoid doing imports until\n"
          ],
          "name": "stderr"
        }
      ]
    },
    {
      "cell_type": "code",
      "metadata": {
        "id": "gOk2BGzsuwd8"
      },
      "source": [
        "class mean_vectorizer(object):\n",
        "    def __init__(self, word2vec):\n",
        "        self.word2vec = word2vec\n",
        "        self.dim = len(next(iter(w2v.values())))\n",
        "\n",
        "    def fit(self, X):\n",
        "        return self \n",
        "\n",
        "    def transform(self, X):\n",
        "        return np.array([\n",
        "            np.mean([self.word2vec[w] for w in words if w in self.word2vec] \n",
        "                    or [np.zeros(self.dim)], axis=0)\n",
        "            for words in X\n",
        "        ])"
      ],
      "execution_count": null,
      "outputs": []
    },
    {
      "cell_type": "code",
      "metadata": {
        "colab": {
          "base_uri": "https://localhost:8080/"
        },
        "id": "jrLXPnn0KVTc",
        "outputId": "85cb8ca2-6e29-4dca-9c59-f916d116e6d7"
      },
      "source": [
        "data_mean_train=mean_vectorizer(w2v).fit(surname_data['words']).transform(surname_data['words'])\n",
        "data_mean_train.shape"
      ],
      "execution_count": null,
      "outputs": [
        {
          "output_type": "execute_result",
          "data": {
            "text/plain": [
              "(101408, 50)"
            ]
          },
          "metadata": {
            "tags": []
          },
          "execution_count": 18
        }
      ]
    },
    {
      "cell_type": "code",
      "metadata": {
        "colab": {
          "base_uri": "https://localhost:8080/"
        },
        "id": "5981oaZjKVTc",
        "outputId": "0b9317d5-aaa3-4c3e-8008-1096a246ae55"
      },
      "source": [
        "data_mean_test=mean_vectorizer(w2v).fit(surname_test['words']).transform(surname_test['words'])\n",
        "data_mean_test.shape"
      ],
      "execution_count": null,
      "outputs": [
        {
          "output_type": "execute_result",
          "data": {
            "text/plain": [
              "(188920, 50)"
            ]
          },
          "metadata": {
            "tags": []
          },
          "execution_count": 19
        }
      ]
    },
    {
      "cell_type": "markdown",
      "metadata": {
        "id": "B117ORpF3hFw"
      },
      "source": [
        "Соберем датасеты для обучения и предсказания."
      ]
    },
    {
      "cell_type": "code",
      "metadata": {
        "id": "xtXAIyR73pGq"
      },
      "source": [
        "data_mean_train = pd.DataFrame(data_mean_train)\n",
        "data_mean_test = pd.DataFrame(data_mean_test)\n",
        "\n",
        "data_train = pd.concat([surname_data,data_mean_train], axis=1)\n",
        "data_test = pd.concat([surname_test,data_mean_test], axis=1)"
      ],
      "execution_count": null,
      "outputs": []
    },
    {
      "cell_type": "markdown",
      "metadata": {
        "id": "Sfhy3P97CSeK"
      },
      "source": [
        "One hot encoding колонки окончаний."
      ]
    },
    {
      "cell_type": "code",
      "metadata": {
        "id": "U4C-P5OgCSYZ"
      },
      "source": [
        "ohe = OneHotEncoder(sparse=False, handle_unknown='ignore')"
      ],
      "execution_count": null,
      "outputs": []
    },
    {
      "cell_type": "code",
      "metadata": {
        "colab": {
          "base_uri": "https://localhost:8080/"
        },
        "id": "c9LJCwySCSSv",
        "outputId": "b2a40976-0cb3-405a-dce7-2b66797a200c"
      },
      "source": [
        "ohe.fit(o.reshape(-1, 1))"
      ],
      "execution_count": null,
      "outputs": [
        {
          "output_type": "execute_result",
          "data": {
            "text/plain": [
              "OneHotEncoder(categories='auto', drop=None, dtype=<class 'numpy.float64'>,\n",
              "              handle_unknown='ignore', sparse=False)"
            ]
          },
          "metadata": {
            "tags": []
          },
          "execution_count": 22
        }
      ]
    },
    {
      "cell_type": "code",
      "metadata": {
        "colab": {
          "base_uri": "https://localhost:8080/"
        },
        "id": "gxOVUilZEiSh",
        "outputId": "26ba4c2e-f5db-4192-d82a-57701ff82c33"
      },
      "source": [
        "ohe.get_feature_names()"
      ],
      "execution_count": null,
      "outputs": [
        {
          "output_type": "execute_result",
          "data": {
            "text/plain": [
              "array(['x0_ами', 'x0_дом', 'x0_ели', 'x0_ель', 'x0_ера', 'x0_ией',\n",
              "       'x0_ием', 'x0_ика', 'x0_ике', 'x0_ики', 'x0_ику', 'x0_ина',\n",
              "       'x0_иям', 'x0_иях', 'x0_кам', 'x0_ках', 'x0_ков', 'x0_кой',\n",
              "       'x0_ком', 'x0_лей', 'x0_лем', 'x0_ние', 'x0_нии', 'x0_ний',\n",
              "       'x0_ник', 'x0_нию', 'x0_ния', 'x0_нов', 'x0_ном', 'x0_ова',\n",
              "       'x0_она', 'x0_ора', 'x0_рам', 'x0_рах', 'x0_ров', 'x0_ром',\n",
              "       'x0_сом', 'x0_сти', 'x0_сть', 'x0_там', 'x0_тах', 'x0_тва',\n",
              "       'x0_тво', 'x0_тов', 'x0_том', 'x0_тью', 'x0_ции', 'x0_цию',\n",
              "       'x0_ция', 'x0_ями'], dtype=object)"
            ]
          },
          "metadata": {
            "tags": []
          },
          "execution_count": 23
        }
      ]
    },
    {
      "cell_type": "code",
      "metadata": {
        "colab": {
          "base_uri": "https://localhost:8080/"
        },
        "id": "L1mNdaHoCSM6",
        "outputId": "a84c379e-33bf-4664-b990-637be5d669b5"
      },
      "source": [
        "ohe_train = pd.DataFrame(ohe.transform(np.array(data_train.okonchanie).reshape(-1, 1)), columns=ohe.get_feature_names())\n",
        "ohe_test = pd.DataFrame(ohe.transform(np.array(data_test.okonchanie).reshape(-1, 1)),columns=ohe.get_feature_names())\n",
        "\n",
        "ohe_train.shape, ohe_test.shape"
      ],
      "execution_count": null,
      "outputs": [
        {
          "output_type": "execute_result",
          "data": {
            "text/plain": [
              "((101408, 50), (188920, 50))"
            ]
          },
          "metadata": {
            "tags": []
          },
          "execution_count": 24
        }
      ]
    },
    {
      "cell_type": "code",
      "metadata": {
        "id": "dVI9Z66LCSHg"
      },
      "source": [
        "data_train = pd.concat([data_train,ohe_train], axis=1)\n",
        "data_test = pd.concat([data_test,ohe_test], axis=1)"
      ],
      "execution_count": null,
      "outputs": []
    },
    {
      "cell_type": "markdown",
      "metadata": {
        "id": "QHf_nXYKCRz6"
      },
      "source": [
        "Подготовка тестовой выборки"
      ]
    },
    {
      "cell_type": "code",
      "metadata": {
        "id": "P_R3YpH7CRuk"
      },
      "source": [
        "test = data_test.drop(['surname','words','okonchanie'], axis=1)"
      ],
      "execution_count": null,
      "outputs": []
    },
    {
      "cell_type": "code",
      "metadata": {
        "colab": {
          "base_uri": "https://localhost:8080/",
          "height": 253
        },
        "id": "qaUWniIHD7G5",
        "outputId": "312c0a06-d387-479e-cccb-d46ea34fec69"
      },
      "source": [
        "test.head(5)"
      ],
      "execution_count": null,
      "outputs": [
        {
          "output_type": "execute_result",
          "data": {
            "text/html": [
              "<div>\n",
              "<style scoped>\n",
              "    .dataframe tbody tr th:only-of-type {\n",
              "        vertical-align: middle;\n",
              "    }\n",
              "\n",
              "    .dataframe tbody tr th {\n",
              "        vertical-align: top;\n",
              "    }\n",
              "\n",
              "    .dataframe thead th {\n",
              "        text-align: right;\n",
              "    }\n",
              "</style>\n",
              "<table border=\"1\" class=\"dataframe\">\n",
              "  <thead>\n",
              "    <tr style=\"text-align: right;\">\n",
              "      <th></th>\n",
              "      <th>kol_bukw</th>\n",
              "      <th>glasnie</th>\n",
              "      <th>soglasnie</th>\n",
              "      <th>lower</th>\n",
              "      <th>upper</th>\n",
              "      <th>title</th>\n",
              "      <th>okon2</th>\n",
              "      <th>okon3</th>\n",
              "      <th>symbols</th>\n",
              "      <th>znaki</th>\n",
              "      <th>probel</th>\n",
              "      <th>a</th>\n",
              "      <th>povtory</th>\n",
              "      <th>nm</th>\n",
              "      <th>szp</th>\n",
              "      <th>0</th>\n",
              "      <th>1</th>\n",
              "      <th>2</th>\n",
              "      <th>3</th>\n",
              "      <th>4</th>\n",
              "      <th>5</th>\n",
              "      <th>6</th>\n",
              "      <th>7</th>\n",
              "      <th>8</th>\n",
              "      <th>9</th>\n",
              "      <th>10</th>\n",
              "      <th>11</th>\n",
              "      <th>12</th>\n",
              "      <th>13</th>\n",
              "      <th>14</th>\n",
              "      <th>15</th>\n",
              "      <th>16</th>\n",
              "      <th>17</th>\n",
              "      <th>18</th>\n",
              "      <th>19</th>\n",
              "      <th>20</th>\n",
              "      <th>21</th>\n",
              "      <th>22</th>\n",
              "      <th>23</th>\n",
              "      <th>24</th>\n",
              "      <th>...</th>\n",
              "      <th>x0_ику</th>\n",
              "      <th>x0_ина</th>\n",
              "      <th>x0_иям</th>\n",
              "      <th>x0_иях</th>\n",
              "      <th>x0_кам</th>\n",
              "      <th>x0_ках</th>\n",
              "      <th>x0_ков</th>\n",
              "      <th>x0_кой</th>\n",
              "      <th>x0_ком</th>\n",
              "      <th>x0_лей</th>\n",
              "      <th>x0_лем</th>\n",
              "      <th>x0_ние</th>\n",
              "      <th>x0_нии</th>\n",
              "      <th>x0_ний</th>\n",
              "      <th>x0_ник</th>\n",
              "      <th>x0_нию</th>\n",
              "      <th>x0_ния</th>\n",
              "      <th>x0_нов</th>\n",
              "      <th>x0_ном</th>\n",
              "      <th>x0_ова</th>\n",
              "      <th>x0_она</th>\n",
              "      <th>x0_ора</th>\n",
              "      <th>x0_рам</th>\n",
              "      <th>x0_рах</th>\n",
              "      <th>x0_ров</th>\n",
              "      <th>x0_ром</th>\n",
              "      <th>x0_сом</th>\n",
              "      <th>x0_сти</th>\n",
              "      <th>x0_сть</th>\n",
              "      <th>x0_там</th>\n",
              "      <th>x0_тах</th>\n",
              "      <th>x0_тва</th>\n",
              "      <th>x0_тво</th>\n",
              "      <th>x0_тов</th>\n",
              "      <th>x0_том</th>\n",
              "      <th>x0_тью</th>\n",
              "      <th>x0_ции</th>\n",
              "      <th>x0_цию</th>\n",
              "      <th>x0_ция</th>\n",
              "      <th>x0_ями</th>\n",
              "    </tr>\n",
              "  </thead>\n",
              "  <tbody>\n",
              "    <tr>\n",
              "      <th>0</th>\n",
              "      <td>5</td>\n",
              "      <td>3</td>\n",
              "      <td>2</td>\n",
              "      <td>0</td>\n",
              "      <td>0</td>\n",
              "      <td>1</td>\n",
              "      <td>0</td>\n",
              "      <td>0</td>\n",
              "      <td>0</td>\n",
              "      <td>0</td>\n",
              "      <td>0</td>\n",
              "      <td>2</td>\n",
              "      <td>1</td>\n",
              "      <td>0</td>\n",
              "      <td>0</td>\n",
              "      <td>0.483968</td>\n",
              "      <td>0.548936</td>\n",
              "      <td>1.233367</td>\n",
              "      <td>-1.581501</td>\n",
              "      <td>0.870962</td>\n",
              "      <td>1.409171</td>\n",
              "      <td>-0.169767</td>\n",
              "      <td>-1.584975</td>\n",
              "      <td>1.832636</td>\n",
              "      <td>0.228065</td>\n",
              "      <td>0.273658</td>\n",
              "      <td>0.539722</td>\n",
              "      <td>-0.689115</td>\n",
              "      <td>0.919823</td>\n",
              "      <td>0.605173</td>\n",
              "      <td>0.492508</td>\n",
              "      <td>0.700842</td>\n",
              "      <td>0.643364</td>\n",
              "      <td>-0.272268</td>\n",
              "      <td>0.012002</td>\n",
              "      <td>0.167066</td>\n",
              "      <td>-0.350977</td>\n",
              "      <td>0.522308</td>\n",
              "      <td>0.440822</td>\n",
              "      <td>-0.239357</td>\n",
              "      <td>...</td>\n",
              "      <td>0.0</td>\n",
              "      <td>0.0</td>\n",
              "      <td>0.0</td>\n",
              "      <td>0.0</td>\n",
              "      <td>0.0</td>\n",
              "      <td>0.0</td>\n",
              "      <td>0.0</td>\n",
              "      <td>0.0</td>\n",
              "      <td>0.0</td>\n",
              "      <td>0.0</td>\n",
              "      <td>0.0</td>\n",
              "      <td>0.0</td>\n",
              "      <td>0.0</td>\n",
              "      <td>0.0</td>\n",
              "      <td>0.0</td>\n",
              "      <td>0.0</td>\n",
              "      <td>0.0</td>\n",
              "      <td>0.0</td>\n",
              "      <td>0.0</td>\n",
              "      <td>0.0</td>\n",
              "      <td>0.0</td>\n",
              "      <td>0.0</td>\n",
              "      <td>0.0</td>\n",
              "      <td>0.0</td>\n",
              "      <td>0.0</td>\n",
              "      <td>0.0</td>\n",
              "      <td>0.0</td>\n",
              "      <td>0.0</td>\n",
              "      <td>0.0</td>\n",
              "      <td>0.0</td>\n",
              "      <td>0.0</td>\n",
              "      <td>0.0</td>\n",
              "      <td>0.0</td>\n",
              "      <td>0.0</td>\n",
              "      <td>0.0</td>\n",
              "      <td>0.0</td>\n",
              "      <td>0.0</td>\n",
              "      <td>0.0</td>\n",
              "      <td>0.0</td>\n",
              "      <td>0.0</td>\n",
              "    </tr>\n",
              "    <tr>\n",
              "      <th>1</th>\n",
              "      <td>3</td>\n",
              "      <td>2</td>\n",
              "      <td>1</td>\n",
              "      <td>0</td>\n",
              "      <td>1</td>\n",
              "      <td>0</td>\n",
              "      <td>0</td>\n",
              "      <td>0</td>\n",
              "      <td>0</td>\n",
              "      <td>0</td>\n",
              "      <td>0</td>\n",
              "      <td>2</td>\n",
              "      <td>1</td>\n",
              "      <td>0</td>\n",
              "      <td>0</td>\n",
              "      <td>0.642142</td>\n",
              "      <td>0.430525</td>\n",
              "      <td>0.203242</td>\n",
              "      <td>-0.707267</td>\n",
              "      <td>-0.230751</td>\n",
              "      <td>0.478095</td>\n",
              "      <td>0.219927</td>\n",
              "      <td>0.759180</td>\n",
              "      <td>0.451031</td>\n",
              "      <td>0.257471</td>\n",
              "      <td>-0.526019</td>\n",
              "      <td>0.349884</td>\n",
              "      <td>-0.209531</td>\n",
              "      <td>0.421649</td>\n",
              "      <td>-0.511936</td>\n",
              "      <td>0.281543</td>\n",
              "      <td>-0.221907</td>\n",
              "      <td>0.971400</td>\n",
              "      <td>-0.028763</td>\n",
              "      <td>0.506727</td>\n",
              "      <td>0.078176</td>\n",
              "      <td>0.175591</td>\n",
              "      <td>-0.246192</td>\n",
              "      <td>-0.560041</td>\n",
              "      <td>-0.304089</td>\n",
              "      <td>...</td>\n",
              "      <td>0.0</td>\n",
              "      <td>0.0</td>\n",
              "      <td>0.0</td>\n",
              "      <td>0.0</td>\n",
              "      <td>0.0</td>\n",
              "      <td>0.0</td>\n",
              "      <td>0.0</td>\n",
              "      <td>0.0</td>\n",
              "      <td>0.0</td>\n",
              "      <td>0.0</td>\n",
              "      <td>0.0</td>\n",
              "      <td>0.0</td>\n",
              "      <td>0.0</td>\n",
              "      <td>0.0</td>\n",
              "      <td>0.0</td>\n",
              "      <td>0.0</td>\n",
              "      <td>0.0</td>\n",
              "      <td>0.0</td>\n",
              "      <td>0.0</td>\n",
              "      <td>0.0</td>\n",
              "      <td>0.0</td>\n",
              "      <td>0.0</td>\n",
              "      <td>0.0</td>\n",
              "      <td>0.0</td>\n",
              "      <td>0.0</td>\n",
              "      <td>0.0</td>\n",
              "      <td>0.0</td>\n",
              "      <td>0.0</td>\n",
              "      <td>0.0</td>\n",
              "      <td>0.0</td>\n",
              "      <td>0.0</td>\n",
              "      <td>0.0</td>\n",
              "      <td>0.0</td>\n",
              "      <td>0.0</td>\n",
              "      <td>0.0</td>\n",
              "      <td>0.0</td>\n",
              "      <td>0.0</td>\n",
              "      <td>0.0</td>\n",
              "      <td>0.0</td>\n",
              "      <td>0.0</td>\n",
              "    </tr>\n",
              "    <tr>\n",
              "      <th>2</th>\n",
              "      <td>4</td>\n",
              "      <td>3</td>\n",
              "      <td>1</td>\n",
              "      <td>0</td>\n",
              "      <td>0</td>\n",
              "      <td>1</td>\n",
              "      <td>0</td>\n",
              "      <td>0</td>\n",
              "      <td>0</td>\n",
              "      <td>0</td>\n",
              "      <td>0</td>\n",
              "      <td>3</td>\n",
              "      <td>1</td>\n",
              "      <td>0</td>\n",
              "      <td>0</td>\n",
              "      <td>0.285298</td>\n",
              "      <td>0.089477</td>\n",
              "      <td>-0.561397</td>\n",
              "      <td>-2.733277</td>\n",
              "      <td>0.250223</td>\n",
              "      <td>-0.716004</td>\n",
              "      <td>1.279646</td>\n",
              "      <td>0.551260</td>\n",
              "      <td>1.697739</td>\n",
              "      <td>-0.024553</td>\n",
              "      <td>-0.444936</td>\n",
              "      <td>1.460243</td>\n",
              "      <td>0.139552</td>\n",
              "      <td>-0.915337</td>\n",
              "      <td>-0.963369</td>\n",
              "      <td>-0.645045</td>\n",
              "      <td>0.163560</td>\n",
              "      <td>0.754225</td>\n",
              "      <td>0.567242</td>\n",
              "      <td>-0.228528</td>\n",
              "      <td>0.474065</td>\n",
              "      <td>0.093574</td>\n",
              "      <td>0.080129</td>\n",
              "      <td>-0.022854</td>\n",
              "      <td>-0.435966</td>\n",
              "      <td>...</td>\n",
              "      <td>0.0</td>\n",
              "      <td>0.0</td>\n",
              "      <td>0.0</td>\n",
              "      <td>0.0</td>\n",
              "      <td>0.0</td>\n",
              "      <td>0.0</td>\n",
              "      <td>0.0</td>\n",
              "      <td>0.0</td>\n",
              "      <td>0.0</td>\n",
              "      <td>0.0</td>\n",
              "      <td>0.0</td>\n",
              "      <td>0.0</td>\n",
              "      <td>0.0</td>\n",
              "      <td>0.0</td>\n",
              "      <td>0.0</td>\n",
              "      <td>0.0</td>\n",
              "      <td>0.0</td>\n",
              "      <td>0.0</td>\n",
              "      <td>0.0</td>\n",
              "      <td>0.0</td>\n",
              "      <td>0.0</td>\n",
              "      <td>0.0</td>\n",
              "      <td>0.0</td>\n",
              "      <td>0.0</td>\n",
              "      <td>0.0</td>\n",
              "      <td>0.0</td>\n",
              "      <td>0.0</td>\n",
              "      <td>0.0</td>\n",
              "      <td>0.0</td>\n",
              "      <td>0.0</td>\n",
              "      <td>0.0</td>\n",
              "      <td>0.0</td>\n",
              "      <td>0.0</td>\n",
              "      <td>0.0</td>\n",
              "      <td>0.0</td>\n",
              "      <td>0.0</td>\n",
              "      <td>0.0</td>\n",
              "      <td>0.0</td>\n",
              "      <td>0.0</td>\n",
              "      <td>0.0</td>\n",
              "    </tr>\n",
              "    <tr>\n",
              "      <th>3</th>\n",
              "      <td>4</td>\n",
              "      <td>3</td>\n",
              "      <td>1</td>\n",
              "      <td>0</td>\n",
              "      <td>0</td>\n",
              "      <td>1</td>\n",
              "      <td>0</td>\n",
              "      <td>0</td>\n",
              "      <td>0</td>\n",
              "      <td>0</td>\n",
              "      <td>0</td>\n",
              "      <td>2</td>\n",
              "      <td>1</td>\n",
              "      <td>0</td>\n",
              "      <td>0</td>\n",
              "      <td>0.163074</td>\n",
              "      <td>2.097343</td>\n",
              "      <td>0.590736</td>\n",
              "      <td>-1.910834</td>\n",
              "      <td>0.555223</td>\n",
              "      <td>0.096452</td>\n",
              "      <td>-0.086241</td>\n",
              "      <td>-0.365527</td>\n",
              "      <td>1.242443</td>\n",
              "      <td>0.115608</td>\n",
              "      <td>-0.387782</td>\n",
              "      <td>0.160217</td>\n",
              "      <td>-0.725881</td>\n",
              "      <td>-0.340190</td>\n",
              "      <td>-1.668943</td>\n",
              "      <td>-0.867897</td>\n",
              "      <td>1.217994</td>\n",
              "      <td>-0.269108</td>\n",
              "      <td>1.198016</td>\n",
              "      <td>2.689241</td>\n",
              "      <td>1.017020</td>\n",
              "      <td>0.852885</td>\n",
              "      <td>0.449242</td>\n",
              "      <td>-1.370059</td>\n",
              "      <td>-0.061640</td>\n",
              "      <td>...</td>\n",
              "      <td>0.0</td>\n",
              "      <td>0.0</td>\n",
              "      <td>0.0</td>\n",
              "      <td>0.0</td>\n",
              "      <td>0.0</td>\n",
              "      <td>0.0</td>\n",
              "      <td>0.0</td>\n",
              "      <td>0.0</td>\n",
              "      <td>0.0</td>\n",
              "      <td>0.0</td>\n",
              "      <td>0.0</td>\n",
              "      <td>0.0</td>\n",
              "      <td>0.0</td>\n",
              "      <td>0.0</td>\n",
              "      <td>0.0</td>\n",
              "      <td>0.0</td>\n",
              "      <td>0.0</td>\n",
              "      <td>0.0</td>\n",
              "      <td>0.0</td>\n",
              "      <td>0.0</td>\n",
              "      <td>0.0</td>\n",
              "      <td>0.0</td>\n",
              "      <td>0.0</td>\n",
              "      <td>0.0</td>\n",
              "      <td>0.0</td>\n",
              "      <td>0.0</td>\n",
              "      <td>0.0</td>\n",
              "      <td>0.0</td>\n",
              "      <td>0.0</td>\n",
              "      <td>0.0</td>\n",
              "      <td>0.0</td>\n",
              "      <td>0.0</td>\n",
              "      <td>0.0</td>\n",
              "      <td>0.0</td>\n",
              "      <td>0.0</td>\n",
              "      <td>0.0</td>\n",
              "      <td>0.0</td>\n",
              "      <td>0.0</td>\n",
              "      <td>0.0</td>\n",
              "      <td>0.0</td>\n",
              "    </tr>\n",
              "    <tr>\n",
              "      <th>4</th>\n",
              "      <td>5</td>\n",
              "      <td>3</td>\n",
              "      <td>2</td>\n",
              "      <td>0</td>\n",
              "      <td>0</td>\n",
              "      <td>1</td>\n",
              "      <td>0</td>\n",
              "      <td>0</td>\n",
              "      <td>0</td>\n",
              "      <td>0</td>\n",
              "      <td>0</td>\n",
              "      <td>2</td>\n",
              "      <td>1</td>\n",
              "      <td>1</td>\n",
              "      <td>0</td>\n",
              "      <td>0.549131</td>\n",
              "      <td>0.632139</td>\n",
              "      <td>-0.173013</td>\n",
              "      <td>-1.493371</td>\n",
              "      <td>-1.573351</td>\n",
              "      <td>1.217565</td>\n",
              "      <td>0.593016</td>\n",
              "      <td>-0.555590</td>\n",
              "      <td>3.569676</td>\n",
              "      <td>2.185325</td>\n",
              "      <td>0.792358</td>\n",
              "      <td>0.793576</td>\n",
              "      <td>-2.249596</td>\n",
              "      <td>0.855420</td>\n",
              "      <td>0.469863</td>\n",
              "      <td>0.813295</td>\n",
              "      <td>0.501683</td>\n",
              "      <td>1.341190</td>\n",
              "      <td>0.210996</td>\n",
              "      <td>0.401511</td>\n",
              "      <td>0.888843</td>\n",
              "      <td>1.014279</td>\n",
              "      <td>-0.363563</td>\n",
              "      <td>-0.082485</td>\n",
              "      <td>0.977776</td>\n",
              "      <td>...</td>\n",
              "      <td>0.0</td>\n",
              "      <td>0.0</td>\n",
              "      <td>0.0</td>\n",
              "      <td>0.0</td>\n",
              "      <td>0.0</td>\n",
              "      <td>0.0</td>\n",
              "      <td>0.0</td>\n",
              "      <td>0.0</td>\n",
              "      <td>0.0</td>\n",
              "      <td>0.0</td>\n",
              "      <td>0.0</td>\n",
              "      <td>0.0</td>\n",
              "      <td>0.0</td>\n",
              "      <td>0.0</td>\n",
              "      <td>0.0</td>\n",
              "      <td>0.0</td>\n",
              "      <td>0.0</td>\n",
              "      <td>0.0</td>\n",
              "      <td>0.0</td>\n",
              "      <td>0.0</td>\n",
              "      <td>0.0</td>\n",
              "      <td>0.0</td>\n",
              "      <td>0.0</td>\n",
              "      <td>0.0</td>\n",
              "      <td>0.0</td>\n",
              "      <td>0.0</td>\n",
              "      <td>0.0</td>\n",
              "      <td>0.0</td>\n",
              "      <td>0.0</td>\n",
              "      <td>0.0</td>\n",
              "      <td>0.0</td>\n",
              "      <td>0.0</td>\n",
              "      <td>0.0</td>\n",
              "      <td>0.0</td>\n",
              "      <td>0.0</td>\n",
              "      <td>0.0</td>\n",
              "      <td>0.0</td>\n",
              "      <td>0.0</td>\n",
              "      <td>0.0</td>\n",
              "      <td>0.0</td>\n",
              "    </tr>\n",
              "  </tbody>\n",
              "</table>\n",
              "<p>5 rows × 115 columns</p>\n",
              "</div>"
            ],
            "text/plain": [
              "   kol_bukw  glasnie  soglasnie  lower  ...  x0_ции  x0_цию  x0_ция  x0_ями\n",
              "0         5        3          2      0  ...     0.0     0.0     0.0     0.0\n",
              "1         3        2          1      0  ...     0.0     0.0     0.0     0.0\n",
              "2         4        3          1      0  ...     0.0     0.0     0.0     0.0\n",
              "3         4        3          1      0  ...     0.0     0.0     0.0     0.0\n",
              "4         5        3          2      0  ...     0.0     0.0     0.0     0.0\n",
              "\n",
              "[5 rows x 115 columns]"
            ]
          },
          "metadata": {
            "tags": []
          },
          "execution_count": 27
        }
      ]
    },
    {
      "cell_type": "markdown",
      "metadata": {
        "id": "06wQkFAh4o_1"
      },
      "source": [
        "### 5. Обучение модели\n",
        "Подготовка данных для обучения"
      ]
    },
    {
      "cell_type": "code",
      "metadata": {
        "id": "1d4BE0nX4vC0"
      },
      "source": [
        "X, y = data_train.drop(['surname','words', 'answer','okonchanie'], axis=1), data_train['answer']"
      ],
      "execution_count": null,
      "outputs": []
    },
    {
      "cell_type": "markdown",
      "metadata": {
        "id": "TWKZSuc44uZh"
      },
      "source": [
        "Для оценки качества модели воспользуемся разбиением на обучающую и тестовую выборки."
      ]
    },
    {
      "cell_type": "code",
      "metadata": {
        "colab": {
          "base_uri": "https://localhost:8080/"
        },
        "id": "dVIAF7f5KVTd",
        "outputId": "36b5769b-2775-4a62-c264-4ae9c2215d06"
      },
      "source": [
        "X_tr, X_val, y_tr, y_val = train_test_split(X, y, test_size=0.3, random_state=42, stratify = y)  # stratify используется для того, чтобы сохранялся баланс классов\n",
        "\n",
        "X_tr.shape,X_val.shape,y_tr.mean(),y_val.mean()\n"
      ],
      "execution_count": null,
      "outputs": [
        {
          "output_type": "execute_result",
          "data": {
            "text/plain": [
              "((70985, 115), (30423, 115), 0.1049094879199831, 0.10488774940012491)"
            ]
          },
          "metadata": {
            "tags": []
          },
          "execution_count": 29
        }
      ]
    },
    {
      "cell_type": "markdown",
      "metadata": {
        "id": "CoL5s95u7ZkN"
      },
      "source": [
        "В качестве модели будет использован градиентный бустинг XGBoost"
      ]
    },
    {
      "cell_type": "code",
      "metadata": {
        "id": "YuZ2vsZUsRq3"
      },
      "source": [
        "eval_set=[(X_tr, y_tr.values.ravel()), (X_val, y_val.values.ravel())]"
      ],
      "execution_count": null,
      "outputs": []
    },
    {
      "cell_type": "code",
      "metadata": {
        "id": "wkjZ64Ko4spe"
      },
      "source": [
        "xgb = XGBClassifier(max_depth=8, scoring= 'roc_auc', random_state=42)"
      ],
      "execution_count": null,
      "outputs": []
    },
    {
      "cell_type": "code",
      "metadata": {
        "colab": {
          "base_uri": "https://localhost:8080/"
        },
        "id": "hYWZaYSj7glq",
        "outputId": "dc6e8d66-6435-4d12-d9e5-705824152e2d"
      },
      "source": [
        "%%time\n",
        "xgb.fit(X_tr, y_tr.values.ravel(),eval_metric=[\"error\", \"logloss\"],  eval_set=eval_set, verbose=False, early_stopping_rounds=10)"
      ],
      "execution_count": null,
      "outputs": [
        {
          "output_type": "stream",
          "text": [
            "CPU times: user 1min 20s, sys: 264 ms, total: 1min 20s\n",
            "Wall time: 1min 20s\n"
          ],
          "name": "stdout"
        },
        {
          "output_type": "execute_result",
          "data": {
            "text/plain": [
              "XGBClassifier(base_score=0.5, booster='gbtree', colsample_bylevel=1,\n",
              "              colsample_bynode=1, colsample_bytree=1, gamma=0,\n",
              "              learning_rate=0.1, max_delta_step=0, max_depth=8,\n",
              "              min_child_weight=1, missing=None, n_estimators=100, n_jobs=1,\n",
              "              nthread=None, objective='binary:logistic', random_state=42,\n",
              "              reg_alpha=0, reg_lambda=1, scale_pos_weight=1, scoring='roc_auc',\n",
              "              seed=None, silent=None, subsample=1, verbosity=1)"
            ]
          },
          "metadata": {
            "tags": []
          },
          "execution_count": 32
        }
      ]
    },
    {
      "cell_type": "markdown",
      "metadata": {
        "id": "LtpES2bzq47F"
      },
      "source": [
        "Отрисуем график ошибок."
      ]
    },
    {
      "cell_type": "code",
      "metadata": {
        "id": "WylqFW8dq4lz",
        "colab": {
          "base_uri": "https://localhost:8080/",
          "height": 551
        },
        "outputId": "632cb8f6-a1b5-436a-f471-b44795ab876b"
      },
      "source": [
        "# retrieve performance metrics\n",
        "results = xgb.evals_result()\n",
        "epochs = len(results['validation_0']['error'])\n",
        "x_axis = range(0, epochs)\n",
        "# plot log loss\n",
        "fig, ax = plt.subplots()\n",
        "ax.plot(x_axis, results['validation_0']['logloss'], label='Train')\n",
        "ax.plot(x_axis, results['validation_1']['logloss'], label='Test')\n",
        "ax.legend()\n",
        "plt.ylabel('Log Loss')\n",
        "plt.title('XGBoost Log Loss')\n",
        "plt.show()\n",
        "\n",
        "# plot classification error\n",
        "fig, ax = plt.subplots()\n",
        "ax.plot(x_axis, results['validation_0']['error'], label='Train')\n",
        "ax.plot(x_axis, results['validation_1']['error'], label='Test')\n",
        "ax.legend()\n",
        "plt.ylabel('Classification Error')\n",
        "plt.title('XGBoost Classification Error')\n",
        "plt.show()"
      ],
      "execution_count": null,
      "outputs": [
        {
          "output_type": "display_data",
          "data": {
            "image/png": "[encoded data removed]",
            "text/plain": [
              "<Figure size 432x288 with 1 Axes>"
            ]
          },
          "metadata": {
            "tags": [],
            "needs_background": "light"
          }
        },
        {
          "output_type": "display_data",
          "data": {
            "image/png": "[encoded data removed]",
            "text/plain": [
              "<Figure size 432x288 with 1 Axes>"
            ]
          },
          "metadata": {
            "tags": [],
            "needs_background": "light"
          }
        }
      ]
    },
    {
      "cell_type": "code",
      "metadata": {
        "id": "hHX_8E9qLBhk"
      },
      "source": [
        "y_pred_train = xgb.predict_proba(X_tr)[:,1]\n",
        "\n",
        "y_pred = xgb.predict_proba(X_val)[:,1]"
      ],
      "execution_count": null,
      "outputs": []
    },
    {
      "cell_type": "code",
      "metadata": {
        "id": "N3v3lGYxuDlC"
      },
      "source": [
        "train_auc = roc_auc_score(y_tr, y_pred_train)\n",
        "test_auc = roc_auc_score(y_val, y_pred)"
      ],
      "execution_count": null,
      "outputs": []
    },
    {
      "cell_type": "code",
      "metadata": {
        "colab": {
          "base_uri": "https://localhost:8080/"
        },
        "id": "DvUDqxEx8aoa",
        "outputId": "6bd4fa31-2f44-4d6d-85b5-5ef0806d58ab"
      },
      "source": [
        "print(\"ROC AUC на трейне:\",train_auc)\n",
        "print(\"ROC AUC на тесте:\",test_auc)"
      ],
      "execution_count": null,
      "outputs": [
        {
          "output_type": "stream",
          "text": [
            "ROC AUC на трейне: 0.972657979715876\n",
            "ROC AUC на тесте: 0.9041507751125833\n"
          ],
          "name": "stdout"
        }
      ]
    },
    {
      "cell_type": "code",
      "metadata": {
        "colab": {
          "base_uri": "https://localhost:8080/",
          "height": 318
        },
        "id": "v6ldvw918aa2",
        "outputId": "35d33b2c-9270-4e5e-e072-63b86a89e73b"
      },
      "source": [
        "plot_importance(xgb,  max_num_features= 20)"
      ],
      "execution_count": null,
      "outputs": [
        {
          "output_type": "execute_result",
          "data": {
            "text/plain": [
              "<matplotlib.axes._subplots.AxesSubplot at 0x7fc9ac5e1cd0>"
            ]
          },
          "metadata": {
            "tags": []
          },
          "execution_count": 37
        },
        {
          "output_type": "display_data",
          "data": {
            "image/png": "[encoded data removed]",
            "text/plain": [
              "<Figure size 432x288 with 1 Axes>"
            ]
          },
          "metadata": {
            "tags": [],
            "needs_background": "light"
          }
        }
      ]
    },
    {
      "cell_type": "markdown",
      "metadata": {
        "id": "_SIMsweVtUiv"
      },
      "source": [
        "Изобразим roc auc"
      ]
    },
    {
      "cell_type": "code",
      "metadata": {
        "colab": {
          "base_uri": "https://localhost:8080/",
          "height": 447
        },
        "id": "r5PyGqCdtUHg",
        "outputId": "b248affb-338b-4df4-84ce-7857cb4c1551"
      },
      "source": [
        "plt.figure(figsize=(10,7))\n",
        "plt.plot(*roc_curve(y_tr, y_pred_train)[:2], label='train AUC={:.4f}'.format(train_auc))\n",
        "plt.plot(*roc_curve(y_val, y_pred)[:2], label='test AUC={:.4f}'.format(test_auc))\n",
        "legend_box = plt.legend(fontsize='large', framealpha=1).get_frame()\n",
        "legend_box.set_facecolor(\"white\")\n",
        "legend_box.set_edgecolor(\"black\")\n",
        "plt.plot(np.linspace(0,1,100), np.linspace(0,1,100))\n",
        "plt.title('ROC AUC Curve')\n",
        "plt.show()"
      ],
      "execution_count": null,
      "outputs": [
        {
          "output_type": "display_data",
          "data": {
            "image/png": "[encoded data removed]",
            "text/plain": [
              "<Figure size 720x504 with 1 Axes>"
            ]
          },
          "metadata": {
            "tags": [],
            "needs_background": "light"
          }
        }
      ]
    },
    {
      "cell_type": "markdown",
      "metadata": {
        "id": "hlqHJ3AQLpOu"
      },
      "source": [
        "В этой работе я не буду использовать поиск по сетке гиперпараметров, потому что это очень долго. Вместо этого я вручную подобрала глубину дерева, количество оценщиков и learning rate чтобы добиться максимального результата."
      ]
    },
    {
      "cell_type": "markdown",
      "metadata": {
        "id": "sT4ZmEGjK8N4"
      },
      "source": [
        "### 6. Получение результатов"
      ]
    },
    {
      "cell_type": "code",
      "metadata": {
        "colab": {
          "base_uri": "https://localhost:8080/"
        },
        "id": "pcgbLwU-O3Cb",
        "outputId": "e135dcc1-e43c-409f-ed50-5239808ca723"
      },
      "source": [
        "xgb.fit(X, y)"
      ],
      "execution_count": null,
      "outputs": [
        {
          "output_type": "execute_result",
          "data": {
            "text/plain": [
              "XGBClassifier(base_score=0.5, booster='gbtree', colsample_bylevel=1,\n",
              "              colsample_bynode=1, colsample_bytree=1, gamma=0,\n",
              "              learning_rate=0.1, max_delta_step=0, max_depth=8,\n",
              "              min_child_weight=1, missing=None, n_estimators=100, n_jobs=1,\n",
              "              nthread=None, objective='binary:logistic', random_state=42,\n",
              "              reg_alpha=0, reg_lambda=1, scale_pos_weight=1, scoring='roc_auc',\n",
              "              seed=None, silent=None, subsample=1, verbosity=1)"
            ]
          },
          "metadata": {
            "tags": []
          },
          "execution_count": 39
        }
      ]
    },
    {
      "cell_type": "markdown",
      "metadata": {
        "id": "HnzQoF9CKVTl"
      },
      "source": [
        "Получим результаты для нашего теста"
      ]
    },
    {
      "cell_type": "code",
      "metadata": {
        "id": "4OXfU8RhKVTl",
        "colab": {
          "base_uri": "https://localhost:8080/"
        },
        "outputId": "7e77bd5b-9df7-4bf9-e508-68cf36d8d711"
      },
      "source": [
        "y_predicted_prob = xgb.predict_proba(test)[:,1]\n",
        "y_predicted_prob"
      ],
      "execution_count": null,
      "outputs": [
        {
          "output_type": "execute_result",
          "data": {
            "text/plain": [
              "array([0.50095636, 0.1529927 , 0.43076387, ..., 0.01413305, 0.00326623,\n",
              "       0.00309742], dtype=float32)"
            ]
          },
          "metadata": {
            "tags": []
          },
          "execution_count": 40
        }
      ]
    },
    {
      "cell_type": "code",
      "metadata": {
        "id": "qO2ohcSFKVTm",
        "colab": {
          "base_uri": "https://localhost:8080/",
          "height": 235
        },
        "outputId": "04f6031a-7083-4f8c-df6d-bfd15a4bb8a7"
      },
      "source": [
        "y = pd.DataFrame(y_predicted_prob, index =None)\n",
        "y = y.rename(columns={0: \"Answer\"})\n",
        "y = y.rename_axis('Id')\n",
        "y.head(5)"
      ],
      "execution_count": null,
      "outputs": [
        {
          "output_type": "execute_result",
          "data": {
            "text/html": [
              "<div>\n",
              "<style scoped>\n",
              "    .dataframe tbody tr th:only-of-type {\n",
              "        vertical-align: middle;\n",
              "    }\n",
              "\n",
              "    .dataframe tbody tr th {\n",
              "        vertical-align: top;\n",
              "    }\n",
              "\n",
              "    .dataframe thead th {\n",
              "        text-align: right;\n",
              "    }\n",
              "</style>\n",
              "<table border=\"1\" class=\"dataframe\">\n",
              "  <thead>\n",
              "    <tr style=\"text-align: right;\">\n",
              "      <th></th>\n",
              "      <th>Answer</th>\n",
              "    </tr>\n",
              "    <tr>\n",
              "      <th>Id</th>\n",
              "      <th></th>\n",
              "    </tr>\n",
              "  </thead>\n",
              "  <tbody>\n",
              "    <tr>\n",
              "      <th>0</th>\n",
              "      <td>0.500956</td>\n",
              "    </tr>\n",
              "    <tr>\n",
              "      <th>1</th>\n",
              "      <td>0.152993</td>\n",
              "    </tr>\n",
              "    <tr>\n",
              "      <th>2</th>\n",
              "      <td>0.430764</td>\n",
              "    </tr>\n",
              "    <tr>\n",
              "      <th>3</th>\n",
              "      <td>0.383363</td>\n",
              "    </tr>\n",
              "    <tr>\n",
              "      <th>4</th>\n",
              "      <td>0.211942</td>\n",
              "    </tr>\n",
              "  </tbody>\n",
              "</table>\n",
              "</div>"
            ],
            "text/plain": [
              "      Answer\n",
              "Id          \n",
              "0   0.500956\n",
              "1   0.152993\n",
              "2   0.430764\n",
              "3   0.383363\n",
              "4   0.211942"
            ]
          },
          "metadata": {
            "tags": []
          },
          "execution_count": 41
        }
      ]
    },
    {
      "cell_type": "markdown",
      "metadata": {
        "id": "ZAfmbBcUKVTm"
      },
      "source": [
        "Сохраним в файл csv."
      ]
    },
    {
      "cell_type": "code",
      "metadata": {
        "id": "XgbK8LvtKVTm"
      },
      "source": [
        "y.to_csv('surname_solver.csv')"
      ],
      "execution_count": null,
      "outputs": []
    },
    {
      "cell_type": "markdown",
      "metadata": {
        "id": "5PZcs-ooM2yE"
      },
      "source": [
        "На kaggle удалось достичь результата 0.90705 по roc auc."
      ]
    }
  ]
}